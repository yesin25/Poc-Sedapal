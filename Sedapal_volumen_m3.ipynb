{
  "nbformat": 4,
  "nbformat_minor": 0,
  "metadata": {
    "colab": {
      "provenance": [],
      "toc_visible": true,
      "mount_file_id": "1DxTzNtgU8oyVg27BqF1JFigpEjTbNXP3",
      "authorship_tag": "ABX9TyNvkMTpuDEkivpZQtSuSAeE",
      "include_colab_link": true
    },
    "kernelspec": {
      "name": "python3",
      "display_name": "Python 3"
    }
  },
  "cells": [
    {
      "cell_type": "markdown",
      "metadata": {
        "id": "view-in-github",
        "colab_type": "text"
      },
      "source": [
        "<a href=\"https://colab.research.google.com/github/yesin25/Projects-Pry/blob/main/Sedapal_volumen_m3.ipynb\" target=\"_parent\"><img src=\"https://colab.research.google.com/assets/colab-badge.svg\" alt=\"Open In Colab\"/></a>"
      ]
    },
    {
      "cell_type": "code",
      "metadata": {
        "id": "eq371pxYfEAg",
        "outputId": "9e9630a6-b0b3-4f67-e95e-6448ce65e532",
        "colab": {
          "base_uri": "https://localhost:8080/",
          "height": 71
        }
      },
      "source": [
        "\n",
        "import math\n",
        "# Basic packages\n",
        "import numpy as np # linear algebra\n",
        "import pandas as pd # data processing, CSV file I/O (e.g. pd.read_csv)\n",
        "import random as rd # generating random numbers\n",
        "import datetime # manipulating date formats\n",
        "\n",
        "from sklearn.preprocessing import MinMaxScaler\n",
        "# Viz\n",
        "import matplotlib.pyplot as plt # basic plotting\n",
        "import seaborn as sns # for prettier plots\n",
        "\n",
        "\n",
        "# TIME SERIES\n",
        "from statsmodels.tsa.arima_model import ARIMA\n",
        "from statsmodels.tsa.statespace.sarimax import SARIMAX\n",
        "from pandas.plotting import autocorrelation_plot\n",
        "from statsmodels.tsa.stattools import adfuller, acf, pacf,arma_order_select_ic\n",
        "import statsmodels.formula.api as smf\n",
        "import statsmodels.tsa.api as smt\n",
        "import statsmodels.api as sm\n",
        "import scipy.stats as scs\n",
        "\n",
        "from keras.models import Sequential\n",
        "from keras.layers import Dense, LSTM\n",
        "\n",
        "# settings\n",
        "import warnings\n",
        "warnings.filterwarnings(\"ignore\")"
      ],
      "execution_count": null,
      "outputs": [
        {
          "output_type": "stream",
          "text": [
            "/usr/local/lib/python3.6/dist-packages/statsmodels/tools/_testing.py:19: FutureWarning: pandas.util.testing is deprecated. Use the functions in the public API at pandas.testing instead.\n",
            "  import pandas.util.testing as tm\n"
          ],
          "name": "stderr"
        }
      ]
    },
    {
      "cell_type": "markdown",
      "metadata": {
        "id": "8dWaOjXKZ70c"
      },
      "source": [
        "## 0.Importando los datos"
      ]
    },
    {
      "cell_type": "code",
      "metadata": {
        "id": "_h6xSv9tjIKK",
        "outputId": "ca27dd2a-f5c2-49bc-f50a-5d60590a18c6",
        "colab": {
          "base_uri": "https://localhost:8080/",
          "height": 204
        }
      },
      "source": [
        "df1=pd.read_excel(\"/content/drive/My Drive/Mis proyectos/sedapal/DataDummy_Sedapal_2.xlsx\")\n",
        "df1.head(5)"
      ],
      "execution_count": null,
      "outputs": [
        {
          "output_type": "execute_result",
          "data": {
            "text/html": [
              "<div>\n",
              "<style scoped>\n",
              "    .dataframe tbody tr th:only-of-type {\n",
              "        vertical-align: middle;\n",
              "    }\n",
              "\n",
              "    .dataframe tbody tr th {\n",
              "        vertical-align: top;\n",
              "    }\n",
              "\n",
              "    .dataframe thead th {\n",
              "        text-align: right;\n",
              "    }\n",
              "</style>\n",
              "<table border=\"1\" class=\"dataframe\">\n",
              "  <thead>\n",
              "    <tr style=\"text-align: right;\">\n",
              "      <th></th>\n",
              "      <th>Año</th>\n",
              "      <th>Facturado Mm3</th>\n",
              "      <th>Variación</th>\n",
              "      <th>Comercial</th>\n",
              "      <th>Doméstico</th>\n",
              "      <th>Estatal</th>\n",
              "      <th>Industrial</th>\n",
              "      <th>Social</th>\n",
              "    </tr>\n",
              "  </thead>\n",
              "  <tbody>\n",
              "    <tr>\n",
              "      <th>0</th>\n",
              "      <td>1905-06-02</td>\n",
              "      <td>257.5</td>\n",
              "      <td>0.019400</td>\n",
              "      <td>25.0</td>\n",
              "      <td>199.1</td>\n",
              "      <td>19.0</td>\n",
              "      <td>6.3</td>\n",
              "      <td>6.1</td>\n",
              "    </tr>\n",
              "    <tr>\n",
              "      <th>1</th>\n",
              "      <td>1905-06-03</td>\n",
              "      <td>262.5</td>\n",
              "      <td>0.019417</td>\n",
              "      <td>25.5</td>\n",
              "      <td>203.1</td>\n",
              "      <td>19.4</td>\n",
              "      <td>6.5</td>\n",
              "      <td>6.2</td>\n",
              "    </tr>\n",
              "    <tr>\n",
              "      <th>2</th>\n",
              "      <td>1905-06-04</td>\n",
              "      <td>267.6</td>\n",
              "      <td>0.019429</td>\n",
              "      <td>26.0</td>\n",
              "      <td>207.1</td>\n",
              "      <td>19.8</td>\n",
              "      <td>6.6</td>\n",
              "      <td>6.3</td>\n",
              "    </tr>\n",
              "    <tr>\n",
              "      <th>3</th>\n",
              "      <td>1905-06-05</td>\n",
              "      <td>272.8</td>\n",
              "      <td>0.019432</td>\n",
              "      <td>26.6</td>\n",
              "      <td>211.2</td>\n",
              "      <td>20.2</td>\n",
              "      <td>6.7</td>\n",
              "      <td>6.4</td>\n",
              "    </tr>\n",
              "    <tr>\n",
              "      <th>4</th>\n",
              "      <td>1905-06-06</td>\n",
              "      <td>278.1</td>\n",
              "      <td>0.019428</td>\n",
              "      <td>27.1</td>\n",
              "      <td>215.4</td>\n",
              "      <td>20.6</td>\n",
              "      <td>6.9</td>\n",
              "      <td>6.6</td>\n",
              "    </tr>\n",
              "  </tbody>\n",
              "</table>\n",
              "</div>"
            ],
            "text/plain": [
              "         Año  Facturado Mm3  Variación  ...  Estatal  Industrial  Social\n",
              "0 1905-06-02          257.5   0.019400  ...     19.0         6.3     6.1\n",
              "1 1905-06-03          262.5   0.019417  ...     19.4         6.5     6.2\n",
              "2 1905-06-04          267.6   0.019429  ...     19.8         6.6     6.3\n",
              "3 1905-06-05          272.8   0.019432  ...     20.2         6.7     6.4\n",
              "4 1905-06-06          278.1   0.019428  ...     20.6         6.9     6.6\n",
              "\n",
              "[5 rows x 8 columns]"
            ]
          },
          "metadata": {
            "tags": []
          },
          "execution_count": 3
        }
      ]
    },
    {
      "cell_type": "code",
      "metadata": {
        "id": "nf7PgEpuVuzq"
      },
      "source": [
        "#df1.iloc[40,:]"
      ],
      "execution_count": null,
      "outputs": []
    },
    {
      "cell_type": "code",
      "metadata": {
        "id": "vp1vTRxNYWjE"
      },
      "source": [
        "#eliminamos la fila de indice 0 y ultima fila de indice 40\n",
        "#df1 = df1.drop([0,40])\n",
        "del(df1['Variación'])"
      ],
      "execution_count": null,
      "outputs": []
    },
    {
      "cell_type": "code",
      "metadata": {
        "id": "WkGJGiGGaWNI"
      },
      "source": [
        "#df1.drop(columns=['Variación']).head(5)\n",
        "#df1.drop([1,17])"
      ],
      "execution_count": null,
      "outputs": []
    },
    {
      "cell_type": "code",
      "metadata": {
        "id": "vyF-0SLuY4_v"
      },
      "source": [
        "#seleccionamos desde el año 1999\n",
        "#df1.iloc[19:40,:]\n",
        "#df1.iloc[18:39,]\n",
        "#df1.iloc[18:39]\n",
        "#df1.iloc[0:18,:]\n",
        "#df1.drop(df1.iloc[0:18,:], axis=1)\n",
        "#df1.drop([0, 18],axis=0)"
      ],
      "execution_count": null,
      "outputs": []
    },
    {
      "cell_type": "code",
      "metadata": {
        "id": "JXRU8-XTcH0Z",
        "outputId": "dc55afc2-46a4-4bc4-9edf-e6fa6d5af579",
        "colab": {
          "base_uri": "https://localhost:8080/",
          "height": 700
        }
      },
      "source": [
        "df2=df1.iloc[19:40,:]\n",
        "df2"
      ],
      "execution_count": null,
      "outputs": [
        {
          "output_type": "execute_result",
          "data": {
            "text/html": [
              "<div>\n",
              "<style scoped>\n",
              "    .dataframe tbody tr th:only-of-type {\n",
              "        vertical-align: middle;\n",
              "    }\n",
              "\n",
              "    .dataframe tbody tr th {\n",
              "        vertical-align: top;\n",
              "    }\n",
              "\n",
              "    .dataframe thead th {\n",
              "        text-align: right;\n",
              "    }\n",
              "</style>\n",
              "<table border=\"1\" class=\"dataframe\">\n",
              "  <thead>\n",
              "    <tr style=\"text-align: right;\">\n",
              "      <th></th>\n",
              "      <th>Año</th>\n",
              "      <th>Facturado Mm3</th>\n",
              "      <th>Comercial</th>\n",
              "      <th>Doméstico</th>\n",
              "      <th>Estatal</th>\n",
              "      <th>Industrial</th>\n",
              "      <th>Social</th>\n",
              "    </tr>\n",
              "  </thead>\n",
              "  <tbody>\n",
              "    <tr>\n",
              "      <th>19</th>\n",
              "      <td>1905-06-21</td>\n",
              "      <td>371.4</td>\n",
              "      <td>36.4</td>\n",
              "      <td>289.3</td>\n",
              "      <td>27.7</td>\n",
              "      <td>9.2</td>\n",
              "      <td>8.8</td>\n",
              "    </tr>\n",
              "    <tr>\n",
              "      <th>20</th>\n",
              "      <td>1905-06-22</td>\n",
              "      <td>378.6</td>\n",
              "      <td>37.1</td>\n",
              "      <td>295.0</td>\n",
              "      <td>28.2</td>\n",
              "      <td>9.4</td>\n",
              "      <td>9.0</td>\n",
              "    </tr>\n",
              "    <tr>\n",
              "      <th>21</th>\n",
              "      <td>1905-06-23</td>\n",
              "      <td>383.7</td>\n",
              "      <td>36.5</td>\n",
              "      <td>294.1</td>\n",
              "      <td>30.8</td>\n",
              "      <td>9.6</td>\n",
              "      <td>12.7</td>\n",
              "    </tr>\n",
              "    <tr>\n",
              "      <th>22</th>\n",
              "      <td>1905-06-24</td>\n",
              "      <td>390.9</td>\n",
              "      <td>36.9</td>\n",
              "      <td>298.4</td>\n",
              "      <td>31.4</td>\n",
              "      <td>10.0</td>\n",
              "      <td>14.2</td>\n",
              "    </tr>\n",
              "    <tr>\n",
              "      <th>23</th>\n",
              "      <td>1905-06-25</td>\n",
              "      <td>393.0</td>\n",
              "      <td>37.5</td>\n",
              "      <td>301.6</td>\n",
              "      <td>31.5</td>\n",
              "      <td>9.9</td>\n",
              "      <td>12.4</td>\n",
              "    </tr>\n",
              "    <tr>\n",
              "      <th>24</th>\n",
              "      <td>1905-06-26</td>\n",
              "      <td>386.2</td>\n",
              "      <td>35.8</td>\n",
              "      <td>297.5</td>\n",
              "      <td>30.4</td>\n",
              "      <td>9.5</td>\n",
              "      <td>13.0</td>\n",
              "    </tr>\n",
              "    <tr>\n",
              "      <th>25</th>\n",
              "      <td>1905-06-27</td>\n",
              "      <td>394.6</td>\n",
              "      <td>37.0</td>\n",
              "      <td>301.4</td>\n",
              "      <td>31.7</td>\n",
              "      <td>9.8</td>\n",
              "      <td>14.7</td>\n",
              "    </tr>\n",
              "    <tr>\n",
              "      <th>26</th>\n",
              "      <td>1905-06-28</td>\n",
              "      <td>410.1</td>\n",
              "      <td>40.5</td>\n",
              "      <td>311.1</td>\n",
              "      <td>32.7</td>\n",
              "      <td>10.7</td>\n",
              "      <td>15.1</td>\n",
              "    </tr>\n",
              "    <tr>\n",
              "      <th>27</th>\n",
              "      <td>1905-06-29</td>\n",
              "      <td>410.0</td>\n",
              "      <td>41.3</td>\n",
              "      <td>309.8</td>\n",
              "      <td>33.1</td>\n",
              "      <td>10.8</td>\n",
              "      <td>15.0</td>\n",
              "    </tr>\n",
              "    <tr>\n",
              "      <th>28</th>\n",
              "      <td>1905-06-30</td>\n",
              "      <td>414.9</td>\n",
              "      <td>44.9</td>\n",
              "      <td>312.3</td>\n",
              "      <td>33.0</td>\n",
              "      <td>10.7</td>\n",
              "      <td>14.0</td>\n",
              "    </tr>\n",
              "    <tr>\n",
              "      <th>29</th>\n",
              "      <td>1905-07-01</td>\n",
              "      <td>415.9</td>\n",
              "      <td>45.2</td>\n",
              "      <td>313.3</td>\n",
              "      <td>33.5</td>\n",
              "      <td>10.5</td>\n",
              "      <td>13.4</td>\n",
              "    </tr>\n",
              "    <tr>\n",
              "      <th>30</th>\n",
              "      <td>1905-07-02</td>\n",
              "      <td>423.6</td>\n",
              "      <td>46.9</td>\n",
              "      <td>319.2</td>\n",
              "      <td>33.1</td>\n",
              "      <td>11.2</td>\n",
              "      <td>13.2</td>\n",
              "    </tr>\n",
              "    <tr>\n",
              "      <th>31</th>\n",
              "      <td>1905-07-03</td>\n",
              "      <td>447.0</td>\n",
              "      <td>51.0</td>\n",
              "      <td>336.9</td>\n",
              "      <td>33.8</td>\n",
              "      <td>12.0</td>\n",
              "      <td>13.3</td>\n",
              "    </tr>\n",
              "    <tr>\n",
              "      <th>32</th>\n",
              "      <td>1905-07-04</td>\n",
              "      <td>472.4</td>\n",
              "      <td>55.2</td>\n",
              "      <td>355.0</td>\n",
              "      <td>35.0</td>\n",
              "      <td>13.0</td>\n",
              "      <td>14.2</td>\n",
              "    </tr>\n",
              "    <tr>\n",
              "      <th>33</th>\n",
              "      <td>1905-07-05</td>\n",
              "      <td>482.8</td>\n",
              "      <td>66.9</td>\n",
              "      <td>362.2</td>\n",
              "      <td>26.9</td>\n",
              "      <td>13.0</td>\n",
              "      <td>13.8</td>\n",
              "    </tr>\n",
              "    <tr>\n",
              "      <th>34</th>\n",
              "      <td>1905-07-06</td>\n",
              "      <td>487.3</td>\n",
              "      <td>66.0</td>\n",
              "      <td>368.3</td>\n",
              "      <td>26.0</td>\n",
              "      <td>12.5</td>\n",
              "      <td>14.6</td>\n",
              "    </tr>\n",
              "    <tr>\n",
              "      <th>35</th>\n",
              "      <td>1905-07-07</td>\n",
              "      <td>501.0</td>\n",
              "      <td>67.1</td>\n",
              "      <td>380.2</td>\n",
              "      <td>26.4</td>\n",
              "      <td>12.3</td>\n",
              "      <td>15.1</td>\n",
              "    </tr>\n",
              "    <tr>\n",
              "      <th>36</th>\n",
              "      <td>1905-07-08</td>\n",
              "      <td>514.7</td>\n",
              "      <td>68.9</td>\n",
              "      <td>392.2</td>\n",
              "      <td>26.3</td>\n",
              "      <td>11.9</td>\n",
              "      <td>15.5</td>\n",
              "    </tr>\n",
              "    <tr>\n",
              "      <th>37</th>\n",
              "      <td>1905-07-09</td>\n",
              "      <td>523.3</td>\n",
              "      <td>70.9</td>\n",
              "      <td>398.4</td>\n",
              "      <td>27.0</td>\n",
              "      <td>12.0</td>\n",
              "      <td>15.0</td>\n",
              "    </tr>\n",
              "    <tr>\n",
              "      <th>38</th>\n",
              "      <td>1905-07-10</td>\n",
              "      <td>529.8</td>\n",
              "      <td>71.4</td>\n",
              "      <td>407.6</td>\n",
              "      <td>26.5</td>\n",
              "      <td>11.6</td>\n",
              "      <td>12.5</td>\n",
              "    </tr>\n",
              "    <tr>\n",
              "      <th>39</th>\n",
              "      <td>1905-07-11</td>\n",
              "      <td>540.8</td>\n",
              "      <td>72.9</td>\n",
              "      <td>416.1</td>\n",
              "      <td>27.1</td>\n",
              "      <td>11.8</td>\n",
              "      <td>12.8</td>\n",
              "    </tr>\n",
              "  </tbody>\n",
              "</table>\n",
              "</div>"
            ],
            "text/plain": [
              "          Año  Facturado Mm3  Comercial  Doméstico  Estatal  Industrial  Social\n",
              "19 1905-06-21          371.4       36.4      289.3     27.7         9.2     8.8\n",
              "20 1905-06-22          378.6       37.1      295.0     28.2         9.4     9.0\n",
              "21 1905-06-23          383.7       36.5      294.1     30.8         9.6    12.7\n",
              "22 1905-06-24          390.9       36.9      298.4     31.4        10.0    14.2\n",
              "23 1905-06-25          393.0       37.5      301.6     31.5         9.9    12.4\n",
              "24 1905-06-26          386.2       35.8      297.5     30.4         9.5    13.0\n",
              "25 1905-06-27          394.6       37.0      301.4     31.7         9.8    14.7\n",
              "26 1905-06-28          410.1       40.5      311.1     32.7        10.7    15.1\n",
              "27 1905-06-29          410.0       41.3      309.8     33.1        10.8    15.0\n",
              "28 1905-06-30          414.9       44.9      312.3     33.0        10.7    14.0\n",
              "29 1905-07-01          415.9       45.2      313.3     33.5        10.5    13.4\n",
              "30 1905-07-02          423.6       46.9      319.2     33.1        11.2    13.2\n",
              "31 1905-07-03          447.0       51.0      336.9     33.8        12.0    13.3\n",
              "32 1905-07-04          472.4       55.2      355.0     35.0        13.0    14.2\n",
              "33 1905-07-05          482.8       66.9      362.2     26.9        13.0    13.8\n",
              "34 1905-07-06          487.3       66.0      368.3     26.0        12.5    14.6\n",
              "35 1905-07-07          501.0       67.1      380.2     26.4        12.3    15.1\n",
              "36 1905-07-08          514.7       68.9      392.2     26.3        11.9    15.5\n",
              "37 1905-07-09          523.3       70.9      398.4     27.0        12.0    15.0\n",
              "38 1905-07-10          529.8       71.4      407.6     26.5        11.6    12.5\n",
              "39 1905-07-11          540.8       72.9      416.1     27.1        11.8    12.8"
            ]
          },
          "metadata": {
            "tags": []
          },
          "execution_count": 5
        }
      ]
    },
    {
      "cell_type": "code",
      "metadata": {
        "id": "rcuH1zSFE9Pg",
        "outputId": "a45682f8-acf9-4aff-e0f1-3951fd9a842a",
        "colab": {
          "base_uri": "https://localhost:8080/",
          "height": 530
        }
      },
      "source": [
        "plt.figure(figsize=(16, 8));\n",
        "#plt.subplot(1,2,1);\n",
        "plt.plot(df2.Comercial.values, color='red', label='Comercial')\n",
        "plt.plot(df2.Doméstico.values, color='green', label='Domestico')\n",
        "plt.plot(df2.Estatal.values, color='blue', label='Estatal')\n",
        "plt.plot(df2.Industrial.values, color='black', label='Industrial')\n",
        "plt.plot(df2.Social.values, color='cyan', label='Social')\n",
        "plt.title('Tipo de factura')\n",
        "plt.xlabel('Año')\n",
        "plt.ylabel('Volumen de agua Mm3')\n",
        "plt.legend(loc='best')\n",
        "#plt.show()"
      ],
      "execution_count": null,
      "outputs": [
        {
          "output_type": "execute_result",
          "data": {
            "text/plain": [
              "<matplotlib.legend.Legend at 0x7f05571e0a20>"
            ]
          },
          "metadata": {
            "tags": []
          },
          "execution_count": 6
        },
        {
          "output_type": "display_data",
          "data": {
            "image/png": "[encoded data removed]",
            "text/plain": [
              "<Figure size 1152x576 with 1 Axes>"
            ]
          },
          "metadata": {
            "tags": [],
            "needs_background": "light"
          }
        }
      ]
    },
    {
      "cell_type": "code",
      "metadata": {
        "id": "KauHatgnmtu_",
        "outputId": "09932868-4d51-4297-823f-5e0ed6ac4e6d",
        "colab": {
          "base_uri": "https://localhost:8080/",
          "height": 521
        }
      },
      "source": [
        "#Visualize\n",
        "plt.figure(figsize=(16,8))\n",
        "plt.title('Facturado')\n",
        "plt.plot(df2['Facturado Mm3'])\n",
        "plt.xlabel('Año',fontsize=18)\n",
        "plt.ylabel('Volumen de agua Mm3',fontsize=18)\n",
        "plt.show()"
      ],
      "execution_count": null,
      "outputs": [
        {
          "output_type": "display_data",
          "data": {
            "image/png": "[encoded data removed]",
            "text/plain": [
              "<Figure size 1152x576 with 1 Axes>"
            ]
          },
          "metadata": {
            "tags": [],
            "needs_background": "light"
          }
        }
      ]
    },
    {
      "cell_type": "code",
      "metadata": {
        "id": "fmUdVi7dNqVn",
        "outputId": "daaf35fa-30b0-4a41-b01a-80648368e5f2",
        "colab": {
          "base_uri": "https://localhost:8080/",
          "height": 530
        }
      },
      "source": [
        "plt.figure(figsize=(16, 8));\n",
        "#plt.subplot(1,2,1);\n",
        "plt.plot(df2.Comercial.values, color='red', label='Comercial')\n",
        "#plt.plot(df2.Doméstico.values, color='green', label='Domestico')\n",
        "plt.plot(df2.Estatal.values, color='blue', label='Estatal')\n",
        "plt.plot(df2.Industrial.values, color='black', label='Industrial')\n",
        "plt.plot(df2.Social.values, color='cyan', label='Social')\n",
        "plt.title('Tipo de factura')\n",
        "plt.xlabel('Año')\n",
        "plt.ylabel('Volumen de agua Mm3')\n",
        "plt.legend(loc='best')\n",
        "#plt.show()"
      ],
      "execution_count": null,
      "outputs": [
        {
          "output_type": "execute_result",
          "data": {
            "text/plain": [
              "<matplotlib.legend.Legend at 0x7f0556600c88>"
            ]
          },
          "metadata": {
            "tags": []
          },
          "execution_count": 35
        },
        {
          "output_type": "display_data",
          "data": {
            "image/png": "[encoded data removed]",
            "text/plain": [
              "<Figure size 1152x576 with 1 Axes>"
            ]
          },
          "metadata": {
            "tags": [],
            "needs_background": "light"
          }
        }
      ]
    },
    {
      "cell_type": "code",
      "metadata": {
        "id": "R_54x0YkdFWi",
        "outputId": "494926f5-54b2-484d-de2f-95054fded49f",
        "colab": {
          "base_uri": "https://localhost:8080/",
          "height": 255
        }
      },
      "source": [
        "df2.info()"
      ],
      "execution_count": null,
      "outputs": [
        {
          "output_type": "stream",
          "text": [
            "<class 'pandas.core.frame.DataFrame'>\n",
            "RangeIndex: 21 entries, 19 to 39\n",
            "Data columns (total 7 columns):\n",
            " #   Column         Non-Null Count  Dtype  \n",
            "---  ------         --------------  -----  \n",
            " 0   Año            21 non-null     int64  \n",
            " 1   Facturado Mm3  21 non-null     float64\n",
            " 2   Comercial      21 non-null     float64\n",
            " 3   Doméstico      21 non-null     float64\n",
            " 4   Estatal        21 non-null     float64\n",
            " 5   Industrial     21 non-null     float64\n",
            " 6   Social         21 non-null     float64\n",
            "dtypes: float64(6), int64(1)\n",
            "memory usage: 1.3 KB\n"
          ],
          "name": "stdout"
        }
      ]
    },
    {
      "cell_type": "code",
      "metadata": {
        "id": "-HsxZzJ0mvMs"
      },
      "source": [
        "#Importar las librerías necesarias en Python.\n",
        "import pandas as pd\n",
        "import numpy as np\n",
        "import matplotlib.pylab as plt\n",
        "%matplotlib inline\n",
        "from matplotlib.pylab import rcParams\n",
        "rcParams['figure.figsize'] = 15, 6"
      ],
      "execution_count": null,
      "outputs": []
    },
    {
      "cell_type": "code",
      "metadata": {
        "id": "UHaPJJ-sWMgX",
        "outputId": "8a0b85eb-cd39-4cc2-9094-3f2fb0120b4e",
        "colab": {
          "base_uri": "https://localhost:8080/",
          "height": 204
        }
      },
      "source": [
        "# Cargamos la información con los datos\n",
        "data = pd.read_excel('/content/drive/My Drive/Mis proyectos/sedapal/Vol_facturado.xlsx')\n",
        "print (data.head())\n",
        "print ('\\n Data Types:')\n",
        "print (data.dtypes)"
      ],
      "execution_count": null,
      "outputs": [
        {
          "output_type": "stream",
          "text": [
            "         Año  Facturado Mm3\n",
            "0 1980-06-02          257.5\n",
            "1 1981-06-03          262.5\n",
            "2 1982-06-04          267.6\n",
            "3 1983-06-05          272.8\n",
            "4 1984-06-05          278.1\n",
            "\n",
            " Data Types:\n",
            "Año              datetime64[ns]\n",
            "Facturado Mm3           float64\n",
            "dtype: object\n"
          ],
          "name": "stdout"
        }
      ]
    },
    {
      "cell_type": "code",
      "metadata": {
        "id": "nXUyHcdiqTTD",
        "outputId": "e4787a56-48e8-4371-9605-fa90b3ff465d",
        "colab": {
          "base_uri": "https://localhost:8080/",
          "height": 748
        }
      },
      "source": [
        "ts"
      ],
      "execution_count": null,
      "outputs": [
        {
          "output_type": "execute_result",
          "data": {
            "text/plain": [
              "Año\n",
              "1980-01-01    257.5\n",
              "1981-01-01    262.5\n",
              "1982-01-01    267.6\n",
              "1983-01-01    272.8\n",
              "1984-01-01    278.1\n",
              "1985-01-01    283.5\n",
              "1986-01-01    289.1\n",
              "1987-01-01    294.7\n",
              "1988-01-01    300.4\n",
              "1989-01-01    306.3\n",
              "1990-01-01    312.2\n",
              "1991-01-01    318.3\n",
              "1992-01-01    324.5\n",
              "1993-01-01    330.8\n",
              "1994-01-01    337.3\n",
              "1995-01-01    343.8\n",
              "1996-01-01    350.5\n",
              "1997-01-01    357.3\n",
              "1998-01-01    364.3\n",
              "1999-01-01    371.4\n",
              "2000-01-01    378.6\n",
              "2001-01-01    383.7\n",
              "2002-01-01    390.9\n",
              "2003-01-01    393.0\n",
              "2004-01-01    386.2\n",
              "2005-01-01    394.6\n",
              "2006-01-01    410.1\n",
              "2007-01-01    410.0\n",
              "2008-01-01    414.9\n",
              "2009-01-01    415.9\n",
              "2010-01-01    423.6\n",
              "2011-01-01    447.0\n",
              "2012-01-01    472.4\n",
              "2013-01-01    482.8\n",
              "2014-01-01    487.3\n",
              "2015-01-01    501.0\n",
              "2016-01-01    514.7\n",
              "2017-01-01    523.3\n",
              "2018-01-01    529.8\n",
              "2019-01-01    540.8\n",
              "2020-01-01    448.4\n",
              "Name: Facturado Mm3, dtype: float64"
            ]
          },
          "metadata": {
            "tags": []
          },
          "execution_count": 52
        }
      ]
    },
    {
      "cell_type": "code",
      "metadata": {
        "id": "QVarxtOJq4wO",
        "outputId": "d5663e3e-7db3-451d-bcb2-70ce230fd9fc",
        "colab": {
          "base_uri": "https://localhost:8080/",
          "height": 441
        }
      },
      "source": [
        "import statsmodels.api as sm\n",
        "# multiplicative\n",
        "res = sm.tsa.seasonal_decompose(ts.values,freq=12,model=\"multiplicative\")\n",
        "#plt.figure(figsize=(16,12))\n",
        "fig = res.plot()\n",
        "#fig.show()"
      ],
      "execution_count": null,
      "outputs": [
        {
          "output_type": "display_data",
          "data": {
            "image/png": "[encoded data removed]",
            "text/plain": [
              "<Figure size 1080x432 with 4 Axes>"
            ]
          },
          "metadata": {
            "tags": [],
            "needs_background": "light"
          }
        }
      ]
    },
    {
      "cell_type": "code",
      "metadata": {
        "id": "ropMcNoPc0yZ",
        "outputId": "32ba7975-43bb-4145-9431-45e1294f7beb",
        "colab": {
          "base_uri": "https://localhost:8080/",
          "height": 441
        }
      },
      "source": [
        "# Additive model\n",
        "res = sm.tsa.seasonal_decompose(ts.values,freq=12,model=\"additive\")\n",
        "#plt.figure(figsize=(16,12))\n",
        "fig = res.plot()\n",
        "#fig.show()"
      ],
      "execution_count": null,
      "outputs": [
        {
          "output_type": "display_data",
          "data": {
            "image/png": "[encoded data removed]",
            "text/plain": [
              "<Figure size 1080x432 with 4 Axes>"
            ]
          },
          "metadata": {
            "tags": [],
            "needs_background": "light"
          }
        }
      ]
    },
    {
      "cell_type": "code",
      "metadata": {
        "id": "1H-d67QSrRW-",
        "outputId": "130feb76-f5c5-45f1-c857-4cba426c94ef",
        "colab": {
          "base_uri": "https://localhost:8080/",
          "height": 170
        }
      },
      "source": [
        "# Stationarity tests\n",
        "def test_stationarity(timeseries):\n",
        "\n",
        "    #Perform Dickey-Fuller test:\n",
        "    print('Results of Dickey-Fuller Test:')\n",
        "    dftest = adfuller(timeseries, autolag='AIC')\n",
        "    dfoutput = pd.Series(dftest[0:4], index=['Test Statistic','p-value','#Lags Used','Number of Observations Used'])\n",
        "    for key,value in dftest[4].items():\n",
        "        dfoutput['Critical Value (%s)'%key] = value\n",
        "    print (dfoutput)\n",
        "\n",
        "test_stationarity(ts)"
      ],
      "execution_count": null,
      "outputs": [
        {
          "output_type": "stream",
          "text": [
            "Results of Dickey-Fuller Test:\n",
            "Test Statistic                  1.037209\n",
            "p-value                         0.994643\n",
            "#Lags Used                     10.000000\n",
            "Number of Observations Used    30.000000\n",
            "Critical Value (1%)            -3.669920\n",
            "Critical Value (5%)            -2.964071\n",
            "Critical Value (10%)           -2.621171\n",
            "dtype: float64\n"
          ],
          "name": "stdout"
        }
      ]
    },
    {
      "cell_type": "code",
      "metadata": {
        "id": "sA_YTp9nrcKQ",
        "outputId": "4e76f36d-9ac5-49e5-e49b-1336bb4635d6",
        "colab": {
          "base_uri": "https://localhost:8080/",
          "height": 170
        }
      },
      "source": [
        "# Evaluamos el test con la función creada\n",
        "test_stationarity(ts)\n",
        "# Evaluamos las Hipótesis :\n",
        "# H0: La serie de tiempo no es estacionaria\n",
        "# H0: La serie de tiempo es estacionaria"
      ],
      "execution_count": null,
      "outputs": [
        {
          "output_type": "stream",
          "text": [
            "Results of Dickey-Fuller Test:\n",
            "Test Statistic                  1.037209\n",
            "p-value                         0.994643\n",
            "#Lags Used                     10.000000\n",
            "Number of Observations Used    30.000000\n",
            "Critical Value (1%)            -3.669920\n",
            "Critical Value (5%)            -2.964071\n",
            "Critical Value (10%)           -2.621171\n",
            "dtype: float64\n"
          ],
          "name": "stdout"
        }
      ]
    },
    {
      "cell_type": "code",
      "metadata": {
        "id": "YjqfixonrTJY"
      },
      "source": [
        "# to remove trend\n",
        "from pandas import Series as Series\n",
        "# create a differenced series\n",
        "def difference(dataset, interval=1):\n",
        "    diff = list()\n",
        "    for i in range(interval, len(dataset)):\n",
        "        value = dataset[i] - dataset[i - interval]\n",
        "        diff.append(value)\n",
        "    return Series(diff)\n",
        "\n",
        "# invert differenced forecast\n",
        "def inverse_difference(last_ob, value):\n",
        "    return value + last_ob"
      ],
      "execution_count": null,
      "outputs": []
    },
    {
      "cell_type": "markdown",
      "metadata": {
        "id": "tI_GT21nKzHi"
      },
      "source": [
        "## 1.Extrayendo los targets"
      ]
    },
    {
      "cell_type": "code",
      "metadata": {
        "id": "0FYTGBhQKhPD"
      },
      "source": [
        "#1er target\n",
        "Facturado = df2.filter(['Facturado Mm3'])\n",
        "#Converting the dataframe to a numpy array\n",
        "Facturado = Facturado.values\n",
        "\n",
        "#2do target\n",
        "Comercial = df2.filter(['Comercial'])\n",
        "#Converting the dataframe to a numpy array\n",
        "Comercial = Comercial.values\n",
        "\n",
        "#3er target\n",
        "Domestico = df2.filter(['Doméstico'])\n",
        "#Converting the dataframe to a numpy array\n",
        "Domestico = Domestico.values\n",
        "\n",
        "#4to target\n",
        "Estatal = df2.filter(['Estatal'])\n",
        "#Converting the dataframe to a numpy array\n",
        "Estatal = Estatal.values\n",
        "\n",
        "#5to target\n",
        "Industrial = df2.filter(['Industrial'])\n",
        "#Converting the dataframe to a numpy array\n",
        "Industrial = Industrial.values\n",
        "\n",
        "#6to target\n",
        "Social = df2.filter(['Social'])\n",
        "#Converting the dataframe to a numpy array\n",
        "Social = Social.values"
      ],
      "execution_count": null,
      "outputs": []
    },
    {
      "cell_type": "code",
      "metadata": {
        "id": "ZceSgyPYLCl2",
        "outputId": "06e83265-7dd6-4812-8d1b-bc33fe54fe42",
        "colab": {
          "base_uri": "https://localhost:8080/",
          "height": 34
        }
      },
      "source": [
        "Facturado.shape"
      ],
      "execution_count": null,
      "outputs": [
        {
          "output_type": "execute_result",
          "data": {
            "text/plain": [
              "(21, 1)"
            ]
          },
          "metadata": {
            "tags": []
          },
          "execution_count": 15
        }
      ]
    },
    {
      "cell_type": "code",
      "metadata": {
        "id": "aTnFE5Hsht2b",
        "outputId": "7da6a502-af12-473d-cf99-1e3a80e15ab4",
        "colab": {
          "base_uri": "https://localhost:8080/",
          "height": 34
        }
      },
      "source": [
        "Comercial.shape"
      ],
      "execution_count": null,
      "outputs": [
        {
          "output_type": "execute_result",
          "data": {
            "text/plain": [
              "(21, 1)"
            ]
          },
          "metadata": {
            "tags": []
          },
          "execution_count": 16
        }
      ]
    },
    {
      "cell_type": "code",
      "metadata": {
        "id": "e30abRla4EGC",
        "outputId": "7132c8ae-0d70-4285-d368-8190b77ad1bf",
        "colab": {
          "base_uri": "https://localhost:8080/",
          "height": 34
        }
      },
      "source": [
        "Domestico.shape"
      ],
      "execution_count": null,
      "outputs": [
        {
          "output_type": "execute_result",
          "data": {
            "text/plain": [
              "(21, 1)"
            ]
          },
          "metadata": {
            "tags": []
          },
          "execution_count": 17
        }
      ]
    },
    {
      "cell_type": "code",
      "metadata": {
        "id": "QADg5L51lTMQ",
        "outputId": "0c1e03f5-5e9e-43ae-bd9c-4da492f8d1b7",
        "colab": {
          "base_uri": "https://localhost:8080/",
          "height": 34
        }
      },
      "source": [
        "Social.shape"
      ],
      "execution_count": null,
      "outputs": [
        {
          "output_type": "execute_result",
          "data": {
            "text/plain": [
              "(21, 1)"
            ]
          },
          "metadata": {
            "tags": []
          },
          "execution_count": 329
        }
      ]
    },
    {
      "cell_type": "markdown",
      "metadata": {
        "id": "dvn8UfXsgXVi"
      },
      "source": [
        "## 2.Numero de filas a entrenar el modelo"
      ]
    },
    {
      "cell_type": "code",
      "metadata": {
        "id": "NZ9MrXvoLHIl",
        "outputId": "34cb69d6-9f46-4aa9-e1ec-9d7ac7d17a63",
        "colab": {
          "base_uri": "https://localhost:8080/",
          "height": 34
        }
      },
      "source": [
        "#calcular the number of rows to train the model on\n",
        "training_data_len = math.ceil( len(Social) *.8)\n",
        "training_data_len"
      ],
      "execution_count": null,
      "outputs": [
        {
          "output_type": "execute_result",
          "data": {
            "text/plain": [
              "17"
            ]
          },
          "metadata": {
            "tags": []
          },
          "execution_count": 41
        }
      ]
    },
    {
      "cell_type": "markdown",
      "metadata": {
        "id": "dQ_G61HJggMu"
      },
      "source": [
        "## 3.Escalando"
      ]
    },
    {
      "cell_type": "code",
      "metadata": {
        "id": "GUkzNrhYpA1T"
      },
      "source": [
        "scaler = MinMaxScaler(feature_range=(0, 1))\n",
        "#Escalado 1er target\n",
        "scaled_data = scaler.fit_transform(Facturado)"
      ],
      "execution_count": null,
      "outputs": []
    },
    {
      "cell_type": "code",
      "metadata": {
        "id": "bQSC4rpNpXv0"
      },
      "source": [
        "#Escalado 2do target\n",
        "scaled_data_2 = scaler.fit_transform(Comercial)"
      ],
      "execution_count": null,
      "outputs": []
    },
    {
      "cell_type": "code",
      "metadata": {
        "id": "qxIX82lSLXts"
      },
      "source": [
        "#Escalado 3er target\n",
        "scaled_data_3 = scaler.fit_transform(Domestico)"
      ],
      "execution_count": null,
      "outputs": []
    },
    {
      "cell_type": "code",
      "metadata": {
        "id": "E-R_-4Ess8O3"
      },
      "source": [
        "#Escalado 4to target\n",
        "scaled_data_4 = scaler.fit_transform(Estatal)"
      ],
      "execution_count": null,
      "outputs": []
    },
    {
      "cell_type": "code",
      "metadata": {
        "id": "BiX4hNmcs91p"
      },
      "source": [
        "#Escalado 5to target\n",
        "scaled_data_5 = scaler.fit_transform(Industrial)"
      ],
      "execution_count": null,
      "outputs": []
    },
    {
      "cell_type": "code",
      "metadata": {
        "id": "KvQz4WKls_Fb"
      },
      "source": [
        "#Escalado 6to target\n",
        "scaled_data_6 = scaler.fit_transform(Social)"
      ],
      "execution_count": null,
      "outputs": []
    },
    {
      "cell_type": "markdown",
      "metadata": {
        "id": "qOeKteFutCl9"
      },
      "source": [
        "## 4.Preparando los pasos de tiempo para el train"
      ]
    },
    {
      "cell_type": "code",
      "metadata": {
        "id": "7qVATJ6uLhtx"
      },
      "source": [
        "#Data Training 1er target\n",
        "train_data = scaled_data[0:training_data_len  , : ]\n",
        "#Split the data into x_train and y_train data sets\n",
        "# Crear una estructura de datos con 10 timesteps (Columnas) y 1 salida\n",
        "x_train=[]\n",
        "y_train=[]\n",
        "for i in range(10,len(train_data)):\n",
        "    x_train.append(train_data[i-10:i,0])\n",
        "    y_train.append(train_data[i,0])\n",
        "#Convert x_train and y_train to numpy arrays\n",
        "x_train, y_train = np.array(x_train), np.array(y_train)\n",
        "#Reshape the data into the shape accepted by the LSTM\n",
        "x_train = np.reshape(x_train, (x_train.shape[0],x_train.shape[1],1))"
      ],
      "execution_count": null,
      "outputs": []
    },
    {
      "cell_type": "code",
      "metadata": {
        "id": "Q-IBh-RQpnIy"
      },
      "source": [
        "#Data Training 2do target\n",
        "train_data_2 = scaled_data_2[0:training_data_len  , : ]\n",
        "#Split the data into x_train and y_train data sets\n",
        "# Crear una estructura de datos con 10 timesteps (Columnas) y 1 salida\n",
        "x_train_2=[]\n",
        "y_train_2=[]\n",
        "for i in range(10,len(train_data_2)):\n",
        "    x_train_2.append(train_data_2[i-10:i,0])\n",
        "    y_train_2.append(train_data_2[i,0])\n",
        "#Convert x_train and y_train to numpy arrays\n",
        "x_train_2, y_train_2 = np.array(x_train_2), np.array(y_train_2)\n",
        "#Reshape the data into the shape accepted by the LSTM\n",
        "x_train_2 = np.reshape(x_train_2, (x_train_2.shape[0],x_train_2.shape[1],1))"
      ],
      "execution_count": null,
      "outputs": []
    },
    {
      "cell_type": "code",
      "metadata": {
        "id": "sxDRBu6wrc2K"
      },
      "source": [
        "#Data Training 3er target\n",
        "train_data_3 = scaled_data_3[0:training_data_len  , : ]\n",
        "#Split the data into x_train and y_train data sets\n",
        "# Crear una estructura de datos con 10 timesteps (Columnas) y 1 salida\n",
        "x_train_3=[]\n",
        "y_train_3=[]\n",
        "for i in range(10,len(train_data_3)):\n",
        "    x_train_3.append(train_data_3[i-10:i,0])\n",
        "    y_train_3.append(train_data_3[i,0])\n",
        "#Convert x_train and y_train to numpy arrays\n",
        "x_train_3, y_train_3 = np.array(x_train_3), np.array(y_train_3)\n",
        "#Reshape the data into the shape accepted by the LSTM\n",
        "x_train_3 = np.reshape(x_train_3, (x_train_3.shape[0],x_train_3.shape[1],1))"
      ],
      "execution_count": null,
      "outputs": []
    },
    {
      "cell_type": "code",
      "metadata": {
        "id": "GWSiHPDGvaCv"
      },
      "source": [
        "#Data Training 4to target\n",
        "train_data_4 = scaled_data_4[0:training_data_len  , : ]\n",
        "#Split the data into x_train and y_train data sets\n",
        "# Crear una estructura de datos con 10 timesteps (Columnas) y 1 salida\n",
        "x_train_4=[]\n",
        "y_train_4=[]\n",
        "for i in range(10,len(train_data_4)):\n",
        "    x_train_4.append(train_data_4[i-10:i,0])\n",
        "    y_train_4.append(train_data_4[i,0])\n",
        "#Convert x_train and y_train to numpy arrays\n",
        "x_train_4, y_train_4 = np.array(x_train_4), np.array(y_train_4)\n",
        "#Reshape the data into the shape accepted by the LSTM\n",
        "x_train_4 = np.reshape(x_train_4, (x_train_4.shape[0],x_train_4.shape[1],1))"
      ],
      "execution_count": null,
      "outputs": []
    },
    {
      "cell_type": "code",
      "metadata": {
        "id": "bXqjYCNbvpzU"
      },
      "source": [
        "#Data Training 5to target\n",
        "train_data_5 = scaled_data_5[0:training_data_len  , : ]\n",
        "#Split the data into x_train and y_train data sets\n",
        "# Crear una estructura de datos con 10 timesteps (Columnas) y 1 salida\n",
        "x_train_5=[]\n",
        "y_train_5=[]\n",
        "for i in range(10,len(train_data_5)):\n",
        "    x_train_5.append(train_data_5[i-10:i,0])\n",
        "    y_train_5.append(train_data_5[i,0])\n",
        "#Convert x_train and y_train to numpy arrays\n",
        "x_train_5, y_train_5 = np.array(x_train_5), np.array(y_train_5)\n",
        "#Reshape the data into the shape accepted by the LSTM\n",
        "x_train_5 = np.reshape(x_train_5, (x_train_5.shape[0],x_train_5.shape[1],1))"
      ],
      "execution_count": null,
      "outputs": []
    },
    {
      "cell_type": "code",
      "metadata": {
        "id": "HhCo6lwRv1Xq"
      },
      "source": [
        "#Data Training 5to target\n",
        "train_data_6 = scaled_data_6[0:training_data_len  , : ]\n",
        "#Split the data into x_train and y_train data sets\n",
        "# Crear una estructura de datos con 10 timesteps (Columnas) y 1 salida\n",
        "x_train_6=[]\n",
        "y_train_6=[]\n",
        "for i in range(10,len(train_data_6)):\n",
        "    x_train_6.append(train_data_6[i-10:i,0])\n",
        "    y_train_6.append(train_data_6[i,0])\n",
        "#Convert x_train and y_train to numpy arrays\n",
        "x_train_6, y_train_6 = np.array(x_train_6), np.array(y_train_6)\n",
        "#Reshape the data into the shape accepted by the LSTM\n",
        "x_train_6 = np.reshape(x_train_6, (x_train_6.shape[0],x_train_6.shape[1],1))"
      ],
      "execution_count": null,
      "outputs": []
    },
    {
      "cell_type": "markdown",
      "metadata": {
        "id": "THbP4ZThwGK7"
      },
      "source": [
        "## 5.Construyendo el modelo de red neuronal LSTM"
      ]
    },
    {
      "cell_type": "code",
      "metadata": {
        "id": "OWEKD38_MkzV"
      },
      "source": [
        "#1er target\n",
        "model = Sequential()\n",
        "model.add(LSTM(units=50, return_sequences=True,input_shape=(x_train.shape[1],1)))\n",
        "#model.add(Dropout(0.2))"
      ],
      "execution_count": null,
      "outputs": []
    },
    {
      "cell_type": "code",
      "metadata": {
        "id": "NoQFIYXFyb9S"
      },
      "source": [
        "# Añadir la segunda capa de LSTM y la regulariación por Dropout\n",
        "model.add(LSTM(units = 50, return_sequences = True ))\n",
        "model.add(Dropout(0.2))"
      ],
      "execution_count": null,
      "outputs": []
    },
    {
      "cell_type": "code",
      "metadata": {
        "id": "ZlfRXYENygxR"
      },
      "source": [
        "# Añadir la tercera capa de LSTM y la regulariación por Dropout\n",
        "model.add(LSTM(units = 50, return_sequences = True ))\n",
        "model.add(Dropout(0.2))"
      ],
      "execution_count": null,
      "outputs": []
    },
    {
      "cell_type": "code",
      "metadata": {
        "id": "OspOa7RsyLTi"
      },
      "source": [
        "model.add(LSTM(units=50, return_sequences=False))\n"
      ],
      "execution_count": null,
      "outputs": []
    },
    {
      "cell_type": "code",
      "metadata": {
        "id": "H5fx3tsSyM8I"
      },
      "source": [
        "model.add(Dense(units=25))\n",
        "model.add(Dense(units=1))"
      ],
      "execution_count": null,
      "outputs": []
    },
    {
      "cell_type": "code",
      "metadata": {
        "id": "2qmaJxDXwRaY"
      },
      "source": [
        "#2do target\n",
        "model = Sequential()\n",
        "model.add(LSTM(units=50, return_sequences=True,input_shape=(x_train_2.shape[1],1)))\n",
        "model.add(LSTM(units=50, return_sequences=False))\n",
        "model.add(Dense(units=25))\n",
        "model.add(Dense(units=1))"
      ],
      "execution_count": null,
      "outputs": []
    },
    {
      "cell_type": "code",
      "metadata": {
        "id": "ewHrdzNjwUHq"
      },
      "source": [
        "#3er target\n",
        "model = Sequential()\n",
        "model.add(LSTM(units=50, return_sequences=True,input_shape=(x_train_3.shape[1],1)))\n",
        "model.add(LSTM(units=50, return_sequences=False))\n",
        "model.add(Dense(units=25))\n",
        "model.add(Dense(units=1))"
      ],
      "execution_count": null,
      "outputs": []
    },
    {
      "cell_type": "code",
      "metadata": {
        "id": "VzJ-Vxh_wVqB"
      },
      "source": [
        "#4to target\n",
        "model = Sequential()\n",
        "model.add(LSTM(units=50, return_sequences=True,input_shape=(x_train_4.shape[1],1)))\n",
        "model.add(LSTM(units=50, return_sequences=False))\n",
        "model.add(Dense(units=25))\n",
        "model.add(Dense(units=1))"
      ],
      "execution_count": null,
      "outputs": []
    },
    {
      "cell_type": "code",
      "metadata": {
        "id": "M3aC6hxiwXqg"
      },
      "source": [
        "#5to target\n",
        "model = Sequential()\n",
        "model.add(LSTM(units=50, return_sequences=True,input_shape=(x_train_5.shape[1],1)))\n",
        "model.add(LSTM(units=50, return_sequences=False))\n",
        "model.add(Dense(units=25))\n",
        "model.add(Dense(units=1))"
      ],
      "execution_count": null,
      "outputs": []
    },
    {
      "cell_type": "code",
      "metadata": {
        "id": "aJFs3iS3wZnJ"
      },
      "source": [
        "#6to target\n",
        "model = Sequential()\n",
        "model.add(LSTM(units=50, return_sequences=True,input_shape=(x_train_6.shape[1],1)))\n",
        "model.add(LSTM(units=50, return_sequences=False))\n",
        "model.add(Dense(units=25))\n",
        "model.add(Dense(units=1))"
      ],
      "execution_count": null,
      "outputs": []
    },
    {
      "cell_type": "code",
      "metadata": {
        "id": "0HVYyUQMN5ac"
      },
      "source": [
        "#otra forma de compilar\n",
        "model.compile(loss='mean_absolute_error',optimizer='adam',metrics=['accuracy'])"
      ],
      "execution_count": null,
      "outputs": []
    },
    {
      "cell_type": "code",
      "metadata": {
        "id": "eGfDg-JcMsDA"
      },
      "source": [
        "#Train the model\n",
        "#model.fit(x_train, y_train, batch_size=1, epochs=1)"
      ],
      "execution_count": null,
      "outputs": []
    },
    {
      "cell_type": "code",
      "metadata": {
        "id": "ScVjwQG6ONg1",
        "outputId": "e84b1301-a5e4-4f39-afe2-6b9f95ad8838",
        "colab": {
          "base_uri": "https://localhost:8080/",
          "height": 163
        }
      },
      "source": [
        "history=model.fit(x_train,y_train,epochs=50,validation_data=(x_test,y_test))"
      ],
      "execution_count": null,
      "outputs": [
        {
          "output_type": "error",
          "ename": "NameError",
          "evalue": "ignored",
          "traceback": [
            "\u001b[0;31m---------------------------------------------------------------------------\u001b[0m",
            "\u001b[0;31mNameError\u001b[0m                                 Traceback (most recent call last)",
            "\u001b[0;32m<ipython-input-47-c2a4d9757881>\u001b[0m in \u001b[0;36m<module>\u001b[0;34m()\u001b[0m\n\u001b[0;32m----> 1\u001b[0;31m \u001b[0mhistory\u001b[0m\u001b[0;34m=\u001b[0m\u001b[0mmodel\u001b[0m\u001b[0;34m.\u001b[0m\u001b[0mfit\u001b[0m\u001b[0;34m(\u001b[0m\u001b[0mx_train\u001b[0m\u001b[0;34m,\u001b[0m\u001b[0my_train\u001b[0m\u001b[0;34m,\u001b[0m\u001b[0mepochs\u001b[0m\u001b[0;34m=\u001b[0m\u001b[0;36m50\u001b[0m\u001b[0;34m,\u001b[0m\u001b[0mvalidation_data\u001b[0m\u001b[0;34m=\u001b[0m\u001b[0;34m(\u001b[0m\u001b[0mx_test\u001b[0m\u001b[0;34m,\u001b[0m\u001b[0my_test\u001b[0m\u001b[0;34m)\u001b[0m\u001b[0;34m)\u001b[0m\u001b[0;34m\u001b[0m\u001b[0;34m\u001b[0m\u001b[0m\n\u001b[0m",
            "\u001b[0;31mNameError\u001b[0m: name 'x_test' is not defined"
          ]
        }
      ]
    },
    {
      "cell_type": "code",
      "metadata": {
        "id": "4ZQVhpKaNvt7"
      },
      "source": [
        "#model.predict(x_test)"
      ],
      "execution_count": null,
      "outputs": []
    },
    {
      "cell_type": "code",
      "metadata": {
        "id": "fXBH7p46MwUA",
        "outputId": "02acfcaf-87fc-4f02-8ab0-4d622a41e2a5",
        "colab": {
          "base_uri": "https://localhost:8080/",
          "height": 248
        }
      },
      "source": [
        "#Test data set\n",
        "test_data = scaled_data[training_data_len - 10: , : ]\n",
        "#Create the x_test and y_test data sets\n",
        "x_test = []\n",
        "y_test =  dataset[training_data_len : , : ] #Get all of the rows from index 1603 to the rest and all of the columns (in this case it's only column 'Close'), so 2003 - 1603 = 400 rows of data\n",
        "for i in range(10,len(test_data)):\n",
        "    x_test.append(test_data[i-10:i,0])"
      ],
      "execution_count": null,
      "outputs": [
        {
          "output_type": "error",
          "ename": "NameError",
          "evalue": "ignored",
          "traceback": [
            "\u001b[0;31m---------------------------------------------------------------------------\u001b[0m",
            "\u001b[0;31mNameError\u001b[0m                                 Traceback (most recent call last)",
            "\u001b[0;32m<ipython-input-48-f48b2573ac91>\u001b[0m in \u001b[0;36m<module>\u001b[0;34m()\u001b[0m\n\u001b[1;32m      3\u001b[0m \u001b[0;31m#Create the x_test and y_test data sets\u001b[0m\u001b[0;34m\u001b[0m\u001b[0;34m\u001b[0m\u001b[0;34m\u001b[0m\u001b[0m\n\u001b[1;32m      4\u001b[0m \u001b[0mx_test\u001b[0m \u001b[0;34m=\u001b[0m \u001b[0;34m[\u001b[0m\u001b[0;34m]\u001b[0m\u001b[0;34m\u001b[0m\u001b[0;34m\u001b[0m\u001b[0m\n\u001b[0;32m----> 5\u001b[0;31m \u001b[0my_test\u001b[0m \u001b[0;34m=\u001b[0m  \u001b[0mdataset\u001b[0m\u001b[0;34m[\u001b[0m\u001b[0mtraining_data_len\u001b[0m \u001b[0;34m:\u001b[0m \u001b[0;34m,\u001b[0m \u001b[0;34m:\u001b[0m \u001b[0;34m]\u001b[0m \u001b[0;31m#Get all of the rows from index 1603 to the rest and all of the columns (in this case it's only column 'Close'), so 2003 - 1603 = 400 rows of data\u001b[0m\u001b[0;34m\u001b[0m\u001b[0;34m\u001b[0m\u001b[0m\n\u001b[0m\u001b[1;32m      6\u001b[0m \u001b[0;32mfor\u001b[0m \u001b[0mi\u001b[0m \u001b[0;32min\u001b[0m \u001b[0mrange\u001b[0m\u001b[0;34m(\u001b[0m\u001b[0;36m10\u001b[0m\u001b[0;34m,\u001b[0m\u001b[0mlen\u001b[0m\u001b[0;34m(\u001b[0m\u001b[0mtest_data\u001b[0m\u001b[0;34m)\u001b[0m\u001b[0;34m)\u001b[0m\u001b[0;34m:\u001b[0m\u001b[0;34m\u001b[0m\u001b[0;34m\u001b[0m\u001b[0m\n\u001b[1;32m      7\u001b[0m     \u001b[0mx_test\u001b[0m\u001b[0;34m.\u001b[0m\u001b[0mappend\u001b[0m\u001b[0;34m(\u001b[0m\u001b[0mtest_data\u001b[0m\u001b[0;34m[\u001b[0m\u001b[0mi\u001b[0m\u001b[0;34m-\u001b[0m\u001b[0;36m10\u001b[0m\u001b[0;34m:\u001b[0m\u001b[0mi\u001b[0m\u001b[0;34m,\u001b[0m\u001b[0;36m0\u001b[0m\u001b[0;34m]\u001b[0m\u001b[0;34m)\u001b[0m\u001b[0;34m\u001b[0m\u001b[0;34m\u001b[0m\u001b[0m\n",
            "\u001b[0;31mNameError\u001b[0m: name 'dataset' is not defined"
          ]
        }
      ]
    },
    {
      "cell_type": "code",
      "metadata": {
        "id": "8BIWuohJMz4B",
        "outputId": "180a3644-0d9b-4e52-9e8e-0dee344861b3",
        "colab": {
          "base_uri": "https://localhost:8080/",
          "height": 34
        }
      },
      "source": [
        "len(test_data)"
      ],
      "execution_count": null,
      "outputs": [
        {
          "output_type": "execute_result",
          "data": {
            "text/plain": [
              "14"
            ]
          },
          "metadata": {
            "tags": []
          },
          "execution_count": 453
        }
      ]
    },
    {
      "cell_type": "code",
      "metadata": {
        "id": "vwQfLtXOM4sU"
      },
      "source": [
        "#Convert x_test to a numpy array\n",
        "x_test = np.array(x_test)"
      ],
      "execution_count": null,
      "outputs": []
    },
    {
      "cell_type": "code",
      "metadata": {
        "id": "lfr3BhCRM7RS"
      },
      "source": [
        "#Reshape the data into the shape accepted by the LSTM\n",
        "x_test = np.reshape(x_test, (x_test.shape[0],x_test.shape[1],1))"
      ],
      "execution_count": null,
      "outputs": []
    },
    {
      "cell_type": "code",
      "metadata": {
        "id": "msr-M39UM8dF"
      },
      "source": [
        "#Getting the models predicted price values\n",
        "predictions = model.predict(x_test)\n",
        "predictions = scaler.inverse_transform(predictions)#Undo scaling"
      ],
      "execution_count": null,
      "outputs": []
    },
    {
      "cell_type": "code",
      "metadata": {
        "id": "gvorPUUQM-7r",
        "outputId": "2d65b18e-852b-43f1-c7e2-06c6a68886e4",
        "colab": {
          "base_uri": "https://localhost:8080/",
          "height": 34
        }
      },
      "source": [
        "#Calculate/Get the value of RMSE\n",
        "rmse=np.sqrt(np.mean(((predictions- y_test)**2)))\n",
        "rmse"
      ],
      "execution_count": null,
      "outputs": [
        {
          "output_type": "execute_result",
          "data": {
            "text/plain": [
              "456.36243997652883"
            ]
          },
          "metadata": {
            "tags": []
          },
          "execution_count": 470
        }
      ]
    },
    {
      "cell_type": "code",
      "metadata": {
        "id": "HAEGSIxUNByT",
        "outputId": "ddfbd23b-ee7b-44d5-84e9-f186dfc33fcb",
        "colab": {
          "base_uri": "https://localhost:8080/",
          "height": 521
        }
      },
      "source": [
        "#Plot/Create the data for the graph\n",
        "train = data[:training_data_len]\n",
        "valid = data[training_data_len:]\n",
        "valid['Predictions'] = predictions\n",
        "#Visualize the data\n",
        "plt.figure(figsize=(16,8))\n",
        "plt.title('Model')\n",
        "plt.xlabel('Date', fontsize=18)\n",
        "plt.ylabel('Monto facturado(Mm3)', fontsize=18)\n",
        "plt.plot(train['Facturado Mm3'])\n",
        "plt.plot(valid[['Facturado Mm3', 'Predictions']])\n",
        "plt.legend(['Train', 'Val', 'Predictions'], loc='lower right')\n",
        "plt.show()"
      ],
      "execution_count": null,
      "outputs": [
        {
          "output_type": "display_data",
          "data": {
            "image/png": "[encoded data removed]",
            "text/plain": [
              "<Figure size 1152x576 with 1 Axes>"
            ]
          },
          "metadata": {
            "tags": [],
            "needs_background": "light"
          }
        }
      ]
    },
    {
      "cell_type": "markdown",
      "metadata": {
        "id": "USfiM02NpQ9V"
      },
      "source": [
        "![image.png](data:image/png;base64,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)"
      ]
    },
    {
      "cell_type": "code",
      "metadata": {
        "id": "s3c5qbU6NcGB",
        "outputId": "270c91ad-aa1c-4948-9c17-b410937aedc5",
        "colab": {
          "base_uri": "https://localhost:8080/",
          "height": 173
        }
      },
      "source": [
        "#Show the valid\n",
        "valid"
      ],
      "execution_count": null,
      "outputs": [
        {
          "output_type": "execute_result",
          "data": {
            "text/html": [
              "<div>\n",
              "<style scoped>\n",
              "    .dataframe tbody tr th:only-of-type {\n",
              "        vertical-align: middle;\n",
              "    }\n",
              "\n",
              "    .dataframe tbody tr th {\n",
              "        vertical-align: top;\n",
              "    }\n",
              "\n",
              "    .dataframe thead th {\n",
              "        text-align: right;\n",
              "    }\n",
              "</style>\n",
              "<table border=\"1\" class=\"dataframe\">\n",
              "  <thead>\n",
              "    <tr style=\"text-align: right;\">\n",
              "      <th></th>\n",
              "      <th>Facturado Mm3</th>\n",
              "      <th>Predictions</th>\n",
              "    </tr>\n",
              "  </thead>\n",
              "  <tbody>\n",
              "    <tr>\n",
              "      <th>36</th>\n",
              "      <td>514.7</td>\n",
              "      <td>507.509216</td>\n",
              "    </tr>\n",
              "    <tr>\n",
              "      <th>37</th>\n",
              "      <td>523.3</td>\n",
              "      <td>510.903809</td>\n",
              "    </tr>\n",
              "    <tr>\n",
              "      <th>38</th>\n",
              "      <td>529.8</td>\n",
              "      <td>514.705139</td>\n",
              "    </tr>\n",
              "    <tr>\n",
              "      <th>39</th>\n",
              "      <td>540.8</td>\n",
              "      <td>517.868042</td>\n",
              "    </tr>\n",
              "  </tbody>\n",
              "</table>\n",
              "</div>"
            ],
            "text/plain": [
              "    Facturado Mm3  Predictions\n",
              "36          514.7   507.509216\n",
              "37          523.3   510.903809\n",
              "38          529.8   514.705139\n",
              "39          540.8   517.868042"
            ]
          },
          "metadata": {
            "tags": []
          },
          "execution_count": 305
        }
      ]
    },
    {
      "cell_type": "code",
      "metadata": {
        "id": "sJsgWSK5RP0X"
      },
      "source": [],
      "execution_count": null,
      "outputs": []
    },
    {
      "cell_type": "code",
      "metadata": {
        "id": "88fxou79anDf",
        "outputId": "af205ccf-6df0-4b5f-c35c-ec05a372101d",
        "colab": {
          "base_uri": "https://localhost:8080/",
          "height": 265
        }
      },
      "source": [
        "plt.plot(history.history['loss'])\n",
        "plt.show()"
      ],
      "execution_count": null,
      "outputs": [
        {
          "output_type": "display_data",
          "data": {
            "image/png": "[encoded data removed]",
            "text/plain": [
              "<Figure size 432x288 with 1 Axes>"
            ]
          },
          "metadata": {
            "tags": [],
            "needs_background": "light"
          }
        }
      ]
    },
    {
      "cell_type": "markdown",
      "metadata": {
        "id": "G5XBm1c-ZFi1"
      },
      "source": [
        "## Train y test final Mm3"
      ]
    },
    {
      "cell_type": "code",
      "metadata": {
        "id": "_eckjtcmqTXi",
        "outputId": "e8dc7588-1eaf-4241-fed0-b5f98596a070",
        "colab": {
          "base_uri": "https://localhost:8080/",
          "height": 576
        }
      },
      "source": [],
      "execution_count": null,
      "outputs": [
        {
          "output_type": "execute_result",
          "data": {
            "text/html": [
              "<div>\n",
              "<style scoped>\n",
              "    .dataframe tbody tr th:only-of-type {\n",
              "        vertical-align: middle;\n",
              "    }\n",
              "\n",
              "    .dataframe tbody tr th {\n",
              "        vertical-align: top;\n",
              "    }\n",
              "\n",
              "    .dataframe thead th {\n",
              "        text-align: right;\n",
              "    }\n",
              "</style>\n",
              "<table border=\"1\" class=\"dataframe\">\n",
              "  <thead>\n",
              "    <tr style=\"text-align: right;\">\n",
              "      <th></th>\n",
              "      <th>Año</th>\n",
              "      <th>Facturado Mm3</th>\n",
              "      <th>Comercial</th>\n",
              "      <th>Doméstico</th>\n",
              "      <th>Estatal</th>\n",
              "      <th>Industrial</th>\n",
              "      <th>Social</th>\n",
              "    </tr>\n",
              "  </thead>\n",
              "  <tbody>\n",
              "    <tr>\n",
              "      <th>19</th>\n",
              "      <td>1999</td>\n",
              "      <td>371.4</td>\n",
              "      <td>36.4</td>\n",
              "      <td>289.3</td>\n",
              "      <td>27.7</td>\n",
              "      <td>9.2</td>\n",
              "      <td>8.8</td>\n",
              "    </tr>\n",
              "    <tr>\n",
              "      <th>20</th>\n",
              "      <td>2000</td>\n",
              "      <td>378.6</td>\n",
              "      <td>37.1</td>\n",
              "      <td>295.0</td>\n",
              "      <td>28.2</td>\n",
              "      <td>9.4</td>\n",
              "      <td>9.0</td>\n",
              "    </tr>\n",
              "    <tr>\n",
              "      <th>21</th>\n",
              "      <td>2001</td>\n",
              "      <td>383.7</td>\n",
              "      <td>36.5</td>\n",
              "      <td>294.1</td>\n",
              "      <td>30.8</td>\n",
              "      <td>9.6</td>\n",
              "      <td>12.7</td>\n",
              "    </tr>\n",
              "    <tr>\n",
              "      <th>22</th>\n",
              "      <td>2002</td>\n",
              "      <td>390.9</td>\n",
              "      <td>36.9</td>\n",
              "      <td>298.4</td>\n",
              "      <td>31.4</td>\n",
              "      <td>10.0</td>\n",
              "      <td>14.2</td>\n",
              "    </tr>\n",
              "    <tr>\n",
              "      <th>23</th>\n",
              "      <td>2003</td>\n",
              "      <td>393.0</td>\n",
              "      <td>37.5</td>\n",
              "      <td>301.6</td>\n",
              "      <td>31.5</td>\n",
              "      <td>9.9</td>\n",
              "      <td>12.4</td>\n",
              "    </tr>\n",
              "    <tr>\n",
              "      <th>24</th>\n",
              "      <td>2004</td>\n",
              "      <td>386.2</td>\n",
              "      <td>35.8</td>\n",
              "      <td>297.5</td>\n",
              "      <td>30.4</td>\n",
              "      <td>9.5</td>\n",
              "      <td>13.0</td>\n",
              "    </tr>\n",
              "    <tr>\n",
              "      <th>25</th>\n",
              "      <td>2005</td>\n",
              "      <td>394.6</td>\n",
              "      <td>37.0</td>\n",
              "      <td>301.4</td>\n",
              "      <td>31.7</td>\n",
              "      <td>9.8</td>\n",
              "      <td>14.7</td>\n",
              "    </tr>\n",
              "    <tr>\n",
              "      <th>26</th>\n",
              "      <td>2006</td>\n",
              "      <td>410.1</td>\n",
              "      <td>40.5</td>\n",
              "      <td>311.1</td>\n",
              "      <td>32.7</td>\n",
              "      <td>10.7</td>\n",
              "      <td>15.1</td>\n",
              "    </tr>\n",
              "    <tr>\n",
              "      <th>27</th>\n",
              "      <td>2007</td>\n",
              "      <td>410.0</td>\n",
              "      <td>41.3</td>\n",
              "      <td>309.8</td>\n",
              "      <td>33.1</td>\n",
              "      <td>10.8</td>\n",
              "      <td>15.0</td>\n",
              "    </tr>\n",
              "    <tr>\n",
              "      <th>28</th>\n",
              "      <td>2008</td>\n",
              "      <td>414.9</td>\n",
              "      <td>44.9</td>\n",
              "      <td>312.3</td>\n",
              "      <td>33.0</td>\n",
              "      <td>10.7</td>\n",
              "      <td>14.0</td>\n",
              "    </tr>\n",
              "    <tr>\n",
              "      <th>29</th>\n",
              "      <td>2009</td>\n",
              "      <td>415.9</td>\n",
              "      <td>45.2</td>\n",
              "      <td>313.3</td>\n",
              "      <td>33.5</td>\n",
              "      <td>10.5</td>\n",
              "      <td>13.4</td>\n",
              "    </tr>\n",
              "    <tr>\n",
              "      <th>30</th>\n",
              "      <td>2010</td>\n",
              "      <td>423.6</td>\n",
              "      <td>46.9</td>\n",
              "      <td>319.2</td>\n",
              "      <td>33.1</td>\n",
              "      <td>11.2</td>\n",
              "      <td>13.2</td>\n",
              "    </tr>\n",
              "    <tr>\n",
              "      <th>31</th>\n",
              "      <td>2011</td>\n",
              "      <td>447.0</td>\n",
              "      <td>51.0</td>\n",
              "      <td>336.9</td>\n",
              "      <td>33.8</td>\n",
              "      <td>12.0</td>\n",
              "      <td>13.3</td>\n",
              "    </tr>\n",
              "    <tr>\n",
              "      <th>32</th>\n",
              "      <td>2012</td>\n",
              "      <td>472.4</td>\n",
              "      <td>55.2</td>\n",
              "      <td>355.0</td>\n",
              "      <td>35.0</td>\n",
              "      <td>13.0</td>\n",
              "      <td>14.2</td>\n",
              "    </tr>\n",
              "    <tr>\n",
              "      <th>33</th>\n",
              "      <td>2013</td>\n",
              "      <td>482.8</td>\n",
              "      <td>66.9</td>\n",
              "      <td>362.2</td>\n",
              "      <td>26.9</td>\n",
              "      <td>13.0</td>\n",
              "      <td>13.8</td>\n",
              "    </tr>\n",
              "    <tr>\n",
              "      <th>34</th>\n",
              "      <td>2014</td>\n",
              "      <td>487.3</td>\n",
              "      <td>66.0</td>\n",
              "      <td>368.3</td>\n",
              "      <td>26.0</td>\n",
              "      <td>12.5</td>\n",
              "      <td>14.6</td>\n",
              "    </tr>\n",
              "    <tr>\n",
              "      <th>35</th>\n",
              "      <td>2015</td>\n",
              "      <td>501.0</td>\n",
              "      <td>67.1</td>\n",
              "      <td>380.2</td>\n",
              "      <td>26.4</td>\n",
              "      <td>12.3</td>\n",
              "      <td>15.1</td>\n",
              "    </tr>\n",
              "  </tbody>\n",
              "</table>\n",
              "</div>"
            ],
            "text/plain": [
              "     Año  Facturado Mm3  Comercial  Doméstico  Estatal  Industrial  Social\n",
              "19  1999          371.4       36.4      289.3     27.7         9.2     8.8\n",
              "20  2000          378.6       37.1      295.0     28.2         9.4     9.0\n",
              "21  2001          383.7       36.5      294.1     30.8         9.6    12.7\n",
              "22  2002          390.9       36.9      298.4     31.4        10.0    14.2\n",
              "23  2003          393.0       37.5      301.6     31.5         9.9    12.4\n",
              "24  2004          386.2       35.8      297.5     30.4         9.5    13.0\n",
              "25  2005          394.6       37.0      301.4     31.7         9.8    14.7\n",
              "26  2006          410.1       40.5      311.1     32.7        10.7    15.1\n",
              "27  2007          410.0       41.3      309.8     33.1        10.8    15.0\n",
              "28  2008          414.9       44.9      312.3     33.0        10.7    14.0\n",
              "29  2009          415.9       45.2      313.3     33.5        10.5    13.4\n",
              "30  2010          423.6       46.9      319.2     33.1        11.2    13.2\n",
              "31  2011          447.0       51.0      336.9     33.8        12.0    13.3\n",
              "32  2012          472.4       55.2      355.0     35.0        13.0    14.2\n",
              "33  2013          482.8       66.9      362.2     26.9        13.0    13.8\n",
              "34  2014          487.3       66.0      368.3     26.0        12.5    14.6\n",
              "35  2015          501.0       67.1      380.2     26.4        12.3    15.1"
            ]
          },
          "metadata": {
            "tags": []
          },
          "execution_count": 9
        }
      ]
    },
    {
      "cell_type": "code",
      "metadata": {
        "id": "qcM9EaHTjSOP"
      },
      "source": [
        "train=df1.iloc[19:36,:]\n",
        "train\n",
        "test=df1.iloc[36:40,:]\n",
        "test"
      ],
      "execution_count": null,
      "outputs": []
    },
    {
      "cell_type": "code",
      "metadata": {
        "id": "ca8nReDRqhnJ",
        "outputId": "43276369-771a-42a3-9a92-6b5acc033e1f",
        "colab": {
          "base_uri": "https://localhost:8080/",
          "height": 173
        }
      },
      "source": [
        "df1.iloc[36:40,:]"
      ],
      "execution_count": null,
      "outputs": [
        {
          "output_type": "execute_result",
          "data": {
            "text/html": [
              "<div>\n",
              "<style scoped>\n",
              "    .dataframe tbody tr th:only-of-type {\n",
              "        vertical-align: middle;\n",
              "    }\n",
              "\n",
              "    .dataframe tbody tr th {\n",
              "        vertical-align: top;\n",
              "    }\n",
              "\n",
              "    .dataframe thead th {\n",
              "        text-align: right;\n",
              "    }\n",
              "</style>\n",
              "<table border=\"1\" class=\"dataframe\">\n",
              "  <thead>\n",
              "    <tr style=\"text-align: right;\">\n",
              "      <th></th>\n",
              "      <th>Año</th>\n",
              "      <th>Facturado Mm3</th>\n",
              "      <th>Comercial</th>\n",
              "      <th>Doméstico</th>\n",
              "      <th>Estatal</th>\n",
              "      <th>Industrial</th>\n",
              "      <th>Social</th>\n",
              "    </tr>\n",
              "  </thead>\n",
              "  <tbody>\n",
              "    <tr>\n",
              "      <th>36</th>\n",
              "      <td>2016</td>\n",
              "      <td>514.7</td>\n",
              "      <td>68.9</td>\n",
              "      <td>392.2</td>\n",
              "      <td>26.3</td>\n",
              "      <td>11.9</td>\n",
              "      <td>15.5</td>\n",
              "    </tr>\n",
              "    <tr>\n",
              "      <th>37</th>\n",
              "      <td>2017</td>\n",
              "      <td>523.3</td>\n",
              "      <td>70.9</td>\n",
              "      <td>398.4</td>\n",
              "      <td>27.0</td>\n",
              "      <td>12.0</td>\n",
              "      <td>15.0</td>\n",
              "    </tr>\n",
              "    <tr>\n",
              "      <th>38</th>\n",
              "      <td>2018</td>\n",
              "      <td>529.8</td>\n",
              "      <td>71.4</td>\n",
              "      <td>407.6</td>\n",
              "      <td>26.5</td>\n",
              "      <td>11.6</td>\n",
              "      <td>12.5</td>\n",
              "    </tr>\n",
              "    <tr>\n",
              "      <th>39</th>\n",
              "      <td>2019</td>\n",
              "      <td>540.8</td>\n",
              "      <td>72.9</td>\n",
              "      <td>416.1</td>\n",
              "      <td>27.1</td>\n",
              "      <td>11.8</td>\n",
              "      <td>12.8</td>\n",
              "    </tr>\n",
              "  </tbody>\n",
              "</table>\n",
              "</div>"
            ],
            "text/plain": [
              "     Año  Facturado Mm3  Comercial  Doméstico  Estatal  Industrial  Social\n",
              "36  2016          514.7       68.9      392.2     26.3        11.9    15.5\n",
              "37  2017          523.3       70.9      398.4     27.0        12.0    15.0\n",
              "38  2018          529.8       71.4      407.6     26.5        11.6    12.5\n",
              "39  2019          540.8       72.9      416.1     27.1        11.8    12.8"
            ]
          },
          "metadata": {
            "tags": []
          },
          "execution_count": 13
        }
      ]
    },
    {
      "cell_type": "code",
      "metadata": {
        "id": "FemZ3gWxqkt5"
      },
      "source": [
        "# Podemos realizar el test de Dickey-Fuller para observar la presencia de estacionariedad\n",
        "from statsmodels.tsa.stattools import adfuller\n",
        "def test_stationarity(timeseries):\n",
        "\n",
        "    # Determinando los promedios móviles o medias móviles\n",
        "    rolmean = pd.rolling_mean(timeseries, window=12)\n",
        "\n",
        "    # Dibujamos la serie original y la serie suavizada\n",
        "    orig = plt.plot(timeseries, color='blue',label='Original')\n",
        "    mean = plt.plot(rolmean, color='red', label='Rolling Mean')\n",
        "    plt.legend(loc='best')\n",
        "    plt.title('Rolling Mean')\n",
        "    plt.show(block=False)\n",
        "\n",
        "    # Evaluamos el test de Dickey - Fuller\n",
        "    print ('Results of Dickey-Fuller Test:')\n",
        "    dftest = adfuller(timeseries, autolag='AIC')\n",
        "    dfoutput = pd.Series(dftest[0:4], index=['Test Statistic','p-value','#Lags Used','Number of Observations Used'])\n",
        "    for key,value in dftest[4].items():\n",
        "        dfoutput['Critical Value (%s)'%key] = value\n",
        "    print (dfoutput)"
      ],
      "execution_count": null,
      "outputs": []
    },
    {
      "cell_type": "code",
      "metadata": {
        "id": "EFPJMKyEqtDD"
      },
      "source": [
        "# Evaluamos el test con la función creada\n",
        "test_stationarity(ts)\n",
        "# Evaluamos las Hipótesis :\n",
        "# H0: La serie de tiempo no es estacionaria\n",
        "# H0: La serie de tiempo es estacionaria"
      ],
      "execution_count": null,
      "outputs": []
    },
    {
      "cell_type": "code",
      "metadata": {
        "id": "w-vp-cQMZMg8"
      },
      "source": [
        "train_set_m3=train.iloc[:, 1:2].values"
      ],
      "execution_count": null,
      "outputs": []
    },
    {
      "cell_type": "code",
      "metadata": {
        "id": "etQEG0pLZYFL"
      },
      "source": [
        "test_set_m3=test.iloc[:, 1:2].values"
      ],
      "execution_count": null,
      "outputs": []
    },
    {
      "cell_type": "markdown",
      "metadata": {
        "id": "E1kUHNONZ2dE"
      },
      "source": [
        "## Escalando el train_set_m3 a train_set_scaled_m3  y  test_set_m3 a test_set_scaled_m3"
      ]
    },
    {
      "cell_type": "code",
      "metadata": {
        "id": "wu8paNFVZ5dL"
      },
      "source": [
        "#Escalado de caracteristicas (features) train_set_m3\n",
        "from sklearn.preprocessing import MinMaxScaler\n",
        "sc = MinMaxScaler(feature_range = (0, 1))\n",
        "train_set_scaled_m3 = sc.fit_transform(train_set_m3)"
      ],
      "execution_count": null,
      "outputs": []
    },
    {
      "cell_type": "code",
      "metadata": {
        "id": "YDPSvWMvjoqw"
      },
      "source": [
        "#Escalado de caracteristicas (features) test_set_m3\n",
        "from sklearn.preprocessing import MinMaxScaler\n",
        "sc = MinMaxScaler(feature_range = (0, 1))\n",
        "test_set_scaled_m3 = sc.fit_transform(test_set_m3)"
      ],
      "execution_count": null,
      "outputs": []
    },
    {
      "cell_type": "markdown",
      "metadata": {
        "id": "dHRVxlY1a7-b"
      },
      "source": [
        "## Convertir a DataFrame df_train_set_scaled y  df_test_set_scaled"
      ]
    },
    {
      "cell_type": "code",
      "metadata": {
        "id": "ogDOUuaZa6bn",
        "outputId": "acdde906-54ca-47ed-da55-6aa62d04992b",
        "colab": {
          "base_uri": "https://localhost:8080/",
          "height": 34
        }
      },
      "source": [
        "df_train_set_scaled_m3=pd.DataFrame(train_set_scaled_m3)\n",
        "#dimension\n",
        "df_train_set_scaled_m3.shape"
      ],
      "execution_count": null,
      "outputs": [
        {
          "output_type": "execute_result",
          "data": {
            "text/plain": [
              "(17, 1)"
            ]
          },
          "metadata": {
            "tags": []
          },
          "execution_count": 62
        }
      ]
    },
    {
      "cell_type": "code",
      "metadata": {
        "id": "jRTp5A2Pjz9F",
        "outputId": "f9985452-c746-4d45-95b6-d59ee81c41fa",
        "colab": {
          "base_uri": "https://localhost:8080/",
          "height": 34
        }
      },
      "source": [
        "df_test_set_scaled_m3=pd.DataFrame(test_set_scaled_m3)\n",
        "#dimension\n",
        "df_test_set_scaled_m3.shape"
      ],
      "execution_count": null,
      "outputs": [
        {
          "output_type": "execute_result",
          "data": {
            "text/plain": [
              "(4, 1)"
            ]
          },
          "metadata": {
            "tags": []
          },
          "execution_count": 57
        }
      ]
    },
    {
      "cell_type": "markdown",
      "metadata": {
        "id": "rSDPv2X5bsK7"
      },
      "source": [
        "## Creando los pasos de tiempo time_step para el train y creando los pasos de tiempo time_step para el test"
      ]
    },
    {
      "cell_type": "code",
      "metadata": {
        "id": "X_nq8Il6bO5F"
      },
      "source": [
        "# Crear una estructura de datos con 10 timesteps (Columnas) y 1 salida\n",
        "X_train = [] # Creo una lista vacia de covariables\n",
        "y_train = [] # Creo una lista vacia de target\n",
        "\n",
        "for i in range(10, 17):\n",
        "    X_train.append(train_set_scaled_m3[i-10:i, 0])\n",
        "    y_train.append(train_set_scaled_m3[i, 0])\n",
        "\n",
        "X_train, y_train = np.array(X_train), np.array(y_train) # Reconvertimos las listas a objetos de numpy para poder visualizarlos."
      ],
      "execution_count": null,
      "outputs": []
    },
    {
      "cell_type": "code",
      "metadata": {
        "id": "JOHLXFQFlda6"
      },
      "source": [
        "#Test data set\n",
        "test_data = scaled_data[training_data_len - 60: , : ]\n",
        "#Create the x_test and y_test data sets\n",
        "x_test = []\n",
        "y_test =  dataset[training_data_len : , : ] #Get all of the rows from index 1603 to the rest and all of the columns (in this case it's only column 'Close'), so 2003 - 1603 = 400 rows of data\n",
        "for i in range(60,len(test_data)):\n",
        "    x_test.append(test_data[i-60:i,0])"
      ],
      "execution_count": null,
      "outputs": []
    },
    {
      "cell_type": "code",
      "metadata": {
        "id": "ktRiv7MbcXdN",
        "outputId": "0c717623-cb68-48ab-b3be-a13fa66fa1fe",
        "colab": {
          "base_uri": "https://localhost:8080/",
          "height": 34
        }
      },
      "source": [
        "#10 señales de entrada x\n",
        "X_train.shape"
      ],
      "execution_count": null,
      "outputs": [
        {
          "output_type": "execute_result",
          "data": {
            "text/plain": [
              "(7, 10)"
            ]
          },
          "metadata": {
            "tags": []
          },
          "execution_count": 37
        }
      ]
    },
    {
      "cell_type": "code",
      "metadata": {
        "id": "EGkgmjsfcap7",
        "outputId": "6a631316-0e62-4d30-dce1-34d4c82dcb33",
        "colab": {
          "base_uri": "https://localhost:8080/",
          "height": 34
        }
      },
      "source": [
        "# 1 señal de salida y\n",
        "y_train.shape"
      ],
      "execution_count": null,
      "outputs": [
        {
          "output_type": "execute_result",
          "data": {
            "text/plain": [
              "(7,)"
            ]
          },
          "metadata": {
            "tags": []
          },
          "execution_count": 38
        }
      ]
    },
    {
      "cell_type": "markdown",
      "metadata": {
        "id": "z_dJRVuGcxqT"
      },
      "source": [
        "## Matrix requerida X_train  Y_train a dataframe"
      ]
    },
    {
      "cell_type": "code",
      "metadata": {
        "id": "DGcdH5gNcuFl",
        "outputId": "157f49a9-f5bf-4167-e2ce-71420835c84c",
        "colab": {
          "base_uri": "https://localhost:8080/",
          "height": 266
        }
      },
      "source": [
        "df_X_train=pd.DataFrame(X_train)\n",
        "df_X_train"
      ],
      "execution_count": null,
      "outputs": [
        {
          "output_type": "execute_result",
          "data": {
            "text/html": [
              "<div>\n",
              "<style scoped>\n",
              "    .dataframe tbody tr th:only-of-type {\n",
              "        vertical-align: middle;\n",
              "    }\n",
              "\n",
              "    .dataframe tbody tr th {\n",
              "        vertical-align: top;\n",
              "    }\n",
              "\n",
              "    .dataframe thead th {\n",
              "        text-align: right;\n",
              "    }\n",
              "</style>\n",
              "<table border=\"1\" class=\"dataframe\">\n",
              "  <thead>\n",
              "    <tr style=\"text-align: right;\">\n",
              "      <th></th>\n",
              "      <th>0</th>\n",
              "      <th>1</th>\n",
              "      <th>2</th>\n",
              "      <th>3</th>\n",
              "      <th>4</th>\n",
              "      <th>5</th>\n",
              "      <th>6</th>\n",
              "      <th>7</th>\n",
              "      <th>8</th>\n",
              "      <th>9</th>\n",
              "    </tr>\n",
              "  </thead>\n",
              "  <tbody>\n",
              "    <tr>\n",
              "      <th>0</th>\n",
              "      <td>0.000000</td>\n",
              "      <td>0.055556</td>\n",
              "      <td>0.094907</td>\n",
              "      <td>0.150463</td>\n",
              "      <td>0.166667</td>\n",
              "      <td>0.114198</td>\n",
              "      <td>0.179012</td>\n",
              "      <td>0.298611</td>\n",
              "      <td>0.297840</td>\n",
              "      <td>0.335648</td>\n",
              "    </tr>\n",
              "    <tr>\n",
              "      <th>1</th>\n",
              "      <td>0.055556</td>\n",
              "      <td>0.094907</td>\n",
              "      <td>0.150463</td>\n",
              "      <td>0.166667</td>\n",
              "      <td>0.114198</td>\n",
              "      <td>0.179012</td>\n",
              "      <td>0.298611</td>\n",
              "      <td>0.297840</td>\n",
              "      <td>0.335648</td>\n",
              "      <td>0.343364</td>\n",
              "    </tr>\n",
              "    <tr>\n",
              "      <th>2</th>\n",
              "      <td>0.094907</td>\n",
              "      <td>0.150463</td>\n",
              "      <td>0.166667</td>\n",
              "      <td>0.114198</td>\n",
              "      <td>0.179012</td>\n",
              "      <td>0.298611</td>\n",
              "      <td>0.297840</td>\n",
              "      <td>0.335648</td>\n",
              "      <td>0.343364</td>\n",
              "      <td>0.402778</td>\n",
              "    </tr>\n",
              "    <tr>\n",
              "      <th>3</th>\n",
              "      <td>0.150463</td>\n",
              "      <td>0.166667</td>\n",
              "      <td>0.114198</td>\n",
              "      <td>0.179012</td>\n",
              "      <td>0.298611</td>\n",
              "      <td>0.297840</td>\n",
              "      <td>0.335648</td>\n",
              "      <td>0.343364</td>\n",
              "      <td>0.402778</td>\n",
              "      <td>0.583333</td>\n",
              "    </tr>\n",
              "    <tr>\n",
              "      <th>4</th>\n",
              "      <td>0.166667</td>\n",
              "      <td>0.114198</td>\n",
              "      <td>0.179012</td>\n",
              "      <td>0.298611</td>\n",
              "      <td>0.297840</td>\n",
              "      <td>0.335648</td>\n",
              "      <td>0.343364</td>\n",
              "      <td>0.402778</td>\n",
              "      <td>0.583333</td>\n",
              "      <td>0.779321</td>\n",
              "    </tr>\n",
              "    <tr>\n",
              "      <th>5</th>\n",
              "      <td>0.114198</td>\n",
              "      <td>0.179012</td>\n",
              "      <td>0.298611</td>\n",
              "      <td>0.297840</td>\n",
              "      <td>0.335648</td>\n",
              "      <td>0.343364</td>\n",
              "      <td>0.402778</td>\n",
              "      <td>0.583333</td>\n",
              "      <td>0.779321</td>\n",
              "      <td>0.859568</td>\n",
              "    </tr>\n",
              "    <tr>\n",
              "      <th>6</th>\n",
              "      <td>0.179012</td>\n",
              "      <td>0.298611</td>\n",
              "      <td>0.297840</td>\n",
              "      <td>0.335648</td>\n",
              "      <td>0.343364</td>\n",
              "      <td>0.402778</td>\n",
              "      <td>0.583333</td>\n",
              "      <td>0.779321</td>\n",
              "      <td>0.859568</td>\n",
              "      <td>0.894290</td>\n",
              "    </tr>\n",
              "  </tbody>\n",
              "</table>\n",
              "</div>"
            ],
            "text/plain": [
              "          0         1         2  ...         7         8         9\n",
              "0  0.000000  0.055556  0.094907  ...  0.298611  0.297840  0.335648\n",
              "1  0.055556  0.094907  0.150463  ...  0.297840  0.335648  0.343364\n",
              "2  0.094907  0.150463  0.166667  ...  0.335648  0.343364  0.402778\n",
              "3  0.150463  0.166667  0.114198  ...  0.343364  0.402778  0.583333\n",
              "4  0.166667  0.114198  0.179012  ...  0.402778  0.583333  0.779321\n",
              "5  0.114198  0.179012  0.298611  ...  0.583333  0.779321  0.859568\n",
              "6  0.179012  0.298611  0.297840  ...  0.779321  0.859568  0.894290\n",
              "\n",
              "[7 rows x 10 columns]"
            ]
          },
          "metadata": {
            "tags": []
          },
          "execution_count": 39
        }
      ]
    },
    {
      "cell_type": "code",
      "metadata": {
        "id": "as1z1TFbdT51",
        "outputId": "ad50a85c-abfa-43cc-a81b-7fa986b486da",
        "colab": {
          "base_uri": "https://localhost:8080/",
          "height": 266
        }
      },
      "source": [
        "df_y_train=pd.DataFrame(y_train)\n",
        "df_y_train"
      ],
      "execution_count": null,
      "outputs": [
        {
          "output_type": "execute_result",
          "data": {
            "text/html": [
              "<div>\n",
              "<style scoped>\n",
              "    .dataframe tbody tr th:only-of-type {\n",
              "        vertical-align: middle;\n",
              "    }\n",
              "\n",
              "    .dataframe tbody tr th {\n",
              "        vertical-align: top;\n",
              "    }\n",
              "\n",
              "    .dataframe thead th {\n",
              "        text-align: right;\n",
              "    }\n",
              "</style>\n",
              "<table border=\"1\" class=\"dataframe\">\n",
              "  <thead>\n",
              "    <tr style=\"text-align: right;\">\n",
              "      <th></th>\n",
              "      <th>0</th>\n",
              "    </tr>\n",
              "  </thead>\n",
              "  <tbody>\n",
              "    <tr>\n",
              "      <th>0</th>\n",
              "      <td>0.343364</td>\n",
              "    </tr>\n",
              "    <tr>\n",
              "      <th>1</th>\n",
              "      <td>0.402778</td>\n",
              "    </tr>\n",
              "    <tr>\n",
              "      <th>2</th>\n",
              "      <td>0.583333</td>\n",
              "    </tr>\n",
              "    <tr>\n",
              "      <th>3</th>\n",
              "      <td>0.779321</td>\n",
              "    </tr>\n",
              "    <tr>\n",
              "      <th>4</th>\n",
              "      <td>0.859568</td>\n",
              "    </tr>\n",
              "    <tr>\n",
              "      <th>5</th>\n",
              "      <td>0.894290</td>\n",
              "    </tr>\n",
              "    <tr>\n",
              "      <th>6</th>\n",
              "      <td>1.000000</td>\n",
              "    </tr>\n",
              "  </tbody>\n",
              "</table>\n",
              "</div>"
            ],
            "text/plain": [
              "          0\n",
              "0  0.343364\n",
              "1  0.402778\n",
              "2  0.583333\n",
              "3  0.779321\n",
              "4  0.859568\n",
              "5  0.894290\n",
              "6  1.000000"
            ]
          },
          "metadata": {
            "tags": []
          },
          "execution_count": 40
        }
      ]
    },
    {
      "cell_type": "markdown",
      "metadata": {
        "id": "_Co2c0F5ej-R"
      },
      "source": [
        "## Formando el tensor de 3D (batch_size, timesteps, input_dim)"
      ]
    },
    {
      "cell_type": "code",
      "metadata": {
        "id": "t9yMpYeqeTW7",
        "outputId": "4431f036-90b8-4aee-8c9b-b6450f2160ad",
        "colab": {
          "base_uri": "https://localhost:8080/",
          "height": 34
        }
      },
      "source": [
        "# Redimensión de los datos\n",
        "#el primer valor, es la cantidad de datos.\n",
        "#el segundo, es la cantidad de pasos temporales, en este caso 10, porque a partir de 10 pasos temporales predecimos el siguiente.\n",
        "#y la cantidad de imput que tenemos en nuestros “timesteps” en este caso 1 porque tomamos una columna.\n",
        "\n",
        "X_train = np.reshape(X_train, (X_train.shape[0], X_train.shape[1], 1))\n",
        "X_train.shape"
      ],
      "execution_count": null,
      "outputs": [
        {
          "output_type": "execute_result",
          "data": {
            "text/plain": [
              "(7, 10, 1)"
            ]
          },
          "metadata": {
            "tags": []
          },
          "execution_count": 43
        }
      ]
    },
    {
      "cell_type": "markdown",
      "metadata": {
        "id": "eKKRjEd2f1Qd"
      },
      "source": [
        "## construccion de la RRN LSTM"
      ]
    },
    {
      "cell_type": "code",
      "metadata": {
        "id": "qVf8h6FUfizf"
      },
      "source": [
        "from keras.models import Sequential\n",
        "from keras.layers import Dense, LSTM, Dropout\n",
        "#capa densa\n",
        "#LSTM = capa de memoria corta"
      ],
      "execution_count": null,
      "outputs": []
    },
    {
      "cell_type": "code",
      "metadata": {
        "id": "oPIxH2GegDgR"
      },
      "source": [
        "#Keras prporciona la API de modelo secuencial es una forma de crear modelos de aprendizaje profundo\n",
        "#donde se crea una instancia de la clase Sequential y se crean y agregan capas de modelo.\n",
        "#Por ejemplo, las capas se pueden definir y pasar al Sequential como una matriz:\n",
        "# Añadir la primera capa de LSTM y la regulariación por Dropout\n",
        "# units : Neuronas LSTM\n",
        "# return_sequences : Capas de LSTM , mas rubustez, nos devuelve las neuronas con la informacion precedente para seguir apilando LSTM.\n",
        "# input_shape : Solo la primera capa necesita esta codificacion, las demas no. Necesita solo los timesteps y el numero de variables. ¿Porque no las filas?\n",
        "model = Sequential()\n",
        "model.add(LSTM(units=50, return_sequences=True,input_shape=(X_train.shape[1],1)))\n",
        "model.add(LSTM(units=50, return_sequences=False))\n",
        "model.add(Dense(units=25))\n",
        "model.add(Dense(units=1))"
      ],
      "execution_count": null,
      "outputs": []
    },
    {
      "cell_type": "code",
      "metadata": {
        "id": "VBXK_1Okh2vi"
      },
      "source": [
        "#Compile the model\n",
        "model.compile(optimizer='adam', loss='mean_squared_error')"
      ],
      "execution_count": null,
      "outputs": []
    },
    {
      "cell_type": "code",
      "metadata": {
        "id": "uSZgHBzoiIZP"
      },
      "source": [
        "#otra forma de compilar\n",
        "model.compile(loss='mean_absolute_error',optimizer='adam',metrics=['accuracy'])"
      ],
      "execution_count": null,
      "outputs": []
    },
    {
      "cell_type": "code",
      "metadata": {
        "id": "hIKpkqNdia9M",
        "outputId": "41196507-b403-4670-df2d-18a8a299c196",
        "colab": {
          "base_uri": "https://localhost:8080/",
          "height": 289
        }
      },
      "source": [
        "#resumen del modelo\n",
        "model.summary()"
      ],
      "execution_count": null,
      "outputs": [
        {
          "output_type": "stream",
          "text": [
            "Model: \"sequential\"\n",
            "_________________________________________________________________\n",
            "Layer (type)                 Output Shape              Param #   \n",
            "=================================================================\n",
            "lstm (LSTM)                  (None, 10, 50)            10400     \n",
            "_________________________________________________________________\n",
            "lstm_1 (LSTM)                (None, 50)                20200     \n",
            "_________________________________________________________________\n",
            "dense (Dense)                (None, 25)                1275      \n",
            "_________________________________________________________________\n",
            "dense_1 (Dense)              (None, 1)                 26        \n",
            "=================================================================\n",
            "Total params: 31,901\n",
            "Trainable params: 31,901\n",
            "Non-trainable params: 0\n",
            "_________________________________________________________________\n"
          ],
          "name": "stdout"
        }
      ]
    },
    {
      "cell_type": "code",
      "metadata": {
        "id": "1aPKJCUGivrG",
        "outputId": "6677ccbd-609d-47a4-b7c2-b4b77b8ec0a7",
        "colab": {
          "base_uri": "https://localhost:8080/",
          "height": 1000
        }
      },
      "source": [
        "# Ajustar la RNR al conjunto de entrenamiento\n",
        "history=model.fit(X_train, y_train, epochs = 100, batch_size = 32)"
      ],
      "execution_count": null,
      "outputs": [
        {
          "output_type": "stream",
          "text": [
            "Epoch 1/100\n",
            "1/1 [==============================] - 0s 1ms/step - loss: 0.7156 - accuracy: 0.0000e+00\n",
            "Epoch 2/100\n",
            "1/1 [==============================] - 0s 1ms/step - loss: 0.6763 - accuracy: 0.0000e+00\n",
            "Epoch 3/100\n",
            "1/1 [==============================] - 0s 1ms/step - loss: 0.6372 - accuracy: 0.0000e+00\n",
            "Epoch 4/100\n",
            "1/1 [==============================] - 0s 1ms/step - loss: 0.5972 - accuracy: 0.0000e+00\n",
            "Epoch 5/100\n",
            "1/1 [==============================] - 0s 1ms/step - loss: 0.5556 - accuracy: 0.0000e+00\n",
            "Epoch 6/100\n",
            "1/1 [==============================] - 0s 1ms/step - loss: 0.5114 - accuracy: 0.0000e+00\n",
            "Epoch 7/100\n",
            "1/1 [==============================] - 0s 952us/step - loss: 0.4637 - accuracy: 0.0000e+00\n",
            "Epoch 8/100\n",
            "1/1 [==============================] - 0s 1ms/step - loss: 0.4109 - accuracy: 0.0000e+00\n",
            "Epoch 9/100\n",
            "1/1 [==============================] - 0s 1ms/step - loss: 0.3516 - accuracy: 0.0000e+00\n",
            "Epoch 10/100\n",
            "1/1 [==============================] - 0s 1ms/step - loss: 0.2839 - accuracy: 0.1429\n",
            "Epoch 11/100\n",
            "1/1 [==============================] - 0s 1ms/step - loss: 0.2211 - accuracy: 0.1429\n",
            "Epoch 12/100\n",
            "1/1 [==============================] - 0s 1ms/step - loss: 0.1735 - accuracy: 0.1429\n",
            "Epoch 13/100\n",
            "1/1 [==============================] - 0s 1ms/step - loss: 0.1270 - accuracy: 0.1429\n",
            "Epoch 14/100\n",
            "1/1 [==============================] - 0s 1ms/step - loss: 0.1102 - accuracy: 0.1429\n",
            "Epoch 15/100\n",
            "1/1 [==============================] - 0s 1ms/step - loss: 0.1891 - accuracy: 0.1429\n",
            "Epoch 16/100\n",
            "1/1 [==============================] - 0s 1ms/step - loss: 0.2070 - accuracy: 0.1429\n",
            "Epoch 17/100\n",
            "1/1 [==============================] - 0s 2ms/step - loss: 0.1838 - accuracy: 0.1429\n",
            "Epoch 18/100\n",
            "1/1 [==============================] - 0s 1ms/step - loss: 0.1359 - accuracy: 0.1429\n",
            "Epoch 19/100\n",
            "1/1 [==============================] - 0s 1ms/step - loss: 0.1009 - accuracy: 0.1429\n",
            "Epoch 20/100\n",
            "1/1 [==============================] - 0s 1ms/step - loss: 0.1130 - accuracy: 0.1429\n",
            "Epoch 21/100\n",
            "1/1 [==============================] - 0s 1ms/step - loss: 0.1217 - accuracy: 0.1429\n",
            "Epoch 22/100\n",
            "1/1 [==============================] - 0s 1ms/step - loss: 0.1277 - accuracy: 0.1429\n",
            "Epoch 23/100\n",
            "1/1 [==============================] - 0s 1ms/step - loss: 0.1317 - accuracy: 0.1429\n",
            "Epoch 24/100\n",
            "1/1 [==============================] - 0s 1ms/step - loss: 0.1344 - accuracy: 0.1429\n",
            "Epoch 25/100\n",
            "1/1 [==============================] - 0s 2ms/step - loss: 0.1325 - accuracy: 0.1429\n",
            "Epoch 26/100\n",
            "1/1 [==============================] - 0s 2ms/step - loss: 0.1272 - accuracy: 0.1429\n",
            "Epoch 27/100\n",
            "1/1 [==============================] - 0s 1ms/step - loss: 0.1223 - accuracy: 0.1429\n",
            "Epoch 28/100\n",
            "1/1 [==============================] - 0s 1ms/step - loss: 0.1162 - accuracy: 0.1429\n",
            "Epoch 29/100\n",
            "1/1 [==============================] - 0s 1ms/step - loss: 0.1090 - accuracy: 0.1429\n",
            "Epoch 30/100\n",
            "1/1 [==============================] - 0s 1ms/step - loss: 0.1004 - accuracy: 0.1429\n",
            "Epoch 31/100\n",
            "1/1 [==============================] - 0s 1ms/step - loss: 0.0966 - accuracy: 0.1429\n",
            "Epoch 32/100\n",
            "1/1 [==============================] - 0s 1ms/step - loss: 0.1042 - accuracy: 0.1429\n",
            "Epoch 33/100\n",
            "1/1 [==============================] - 0s 2ms/step - loss: 0.1069 - accuracy: 0.1429\n",
            "Epoch 34/100\n",
            "1/1 [==============================] - 0s 1ms/step - loss: 0.1052 - accuracy: 0.1429\n",
            "Epoch 35/100\n",
            "1/1 [==============================] - 0s 1ms/step - loss: 0.0995 - accuracy: 0.1429\n",
            "Epoch 36/100\n",
            "1/1 [==============================] - 0s 2ms/step - loss: 0.0911 - accuracy: 0.1429\n",
            "Epoch 37/100\n",
            "1/1 [==============================] - 0s 1ms/step - loss: 0.0925 - accuracy: 0.1429\n",
            "Epoch 38/100\n",
            "1/1 [==============================] - 0s 2ms/step - loss: 0.0948 - accuracy: 0.1429\n",
            "Epoch 39/100\n",
            "1/1 [==============================] - 0s 1ms/step - loss: 0.0949 - accuracy: 0.1429\n",
            "Epoch 40/100\n",
            "1/1 [==============================] - 0s 1ms/step - loss: 0.0929 - accuracy: 0.1429\n",
            "Epoch 41/100\n",
            "1/1 [==============================] - 0s 2ms/step - loss: 0.0889 - accuracy: 0.1429\n",
            "Epoch 42/100\n",
            "1/1 [==============================] - 0s 2ms/step - loss: 0.0857 - accuracy: 0.1429\n",
            "Epoch 43/100\n",
            "1/1 [==============================] - 0s 5ms/step - loss: 0.0861 - accuracy: 0.1429\n",
            "Epoch 44/100\n",
            "1/1 [==============================] - 0s 2ms/step - loss: 0.0855 - accuracy: 0.1429\n",
            "Epoch 45/100\n",
            "1/1 [==============================] - 0s 1ms/step - loss: 0.0832 - accuracy: 0.1429\n",
            "Epoch 46/100\n",
            "1/1 [==============================] - 0s 1ms/step - loss: 0.0814 - accuracy: 0.1429\n",
            "Epoch 47/100\n",
            "1/1 [==============================] - 0s 1ms/step - loss: 0.0811 - accuracy: 0.1429\n",
            "Epoch 48/100\n",
            "1/1 [==============================] - 0s 1ms/step - loss: 0.0804 - accuracy: 0.1429\n",
            "Epoch 49/100\n",
            "1/1 [==============================] - 0s 1ms/step - loss: 0.0777 - accuracy: 0.1429\n",
            "Epoch 50/100\n",
            "1/1 [==============================] - 0s 1ms/step - loss: 0.0768 - accuracy: 0.1429\n",
            "Epoch 51/100\n",
            "1/1 [==============================] - 0s 1ms/step - loss: 0.0757 - accuracy: 0.1429\n",
            "Epoch 52/100\n",
            "1/1 [==============================] - 0s 1ms/step - loss: 0.0744 - accuracy: 0.1429\n",
            "Epoch 53/100\n",
            "1/1 [==============================] - 0s 2ms/step - loss: 0.0745 - accuracy: 0.1429\n",
            "Epoch 54/100\n",
            "1/1 [==============================] - 0s 2ms/step - loss: 0.0743 - accuracy: 0.1429\n",
            "Epoch 55/100\n",
            "1/1 [==============================] - 0s 2ms/step - loss: 0.0733 - accuracy: 0.1429\n",
            "Epoch 56/100\n",
            "1/1 [==============================] - 0s 1ms/step - loss: 0.0715 - accuracy: 0.1429\n",
            "Epoch 57/100\n",
            "1/1 [==============================] - 0s 1ms/step - loss: 0.0731 - accuracy: 0.1429\n",
            "Epoch 58/100\n",
            "1/1 [==============================] - 0s 1ms/step - loss: 0.0725 - accuracy: 0.1429\n",
            "Epoch 59/100\n",
            "1/1 [==============================] - 0s 1ms/step - loss: 0.0710 - accuracy: 0.1429\n",
            "Epoch 60/100\n",
            "1/1 [==============================] - 0s 1ms/step - loss: 0.0720 - accuracy: 0.1429\n",
            "Epoch 61/100\n",
            "1/1 [==============================] - 0s 1ms/step - loss: 0.0719 - accuracy: 0.1429\n",
            "Epoch 62/100\n",
            "1/1 [==============================] - 0s 1ms/step - loss: 0.0710 - accuracy: 0.1429\n",
            "Epoch 63/100\n",
            "1/1 [==============================] - 0s 1ms/step - loss: 0.0705 - accuracy: 0.1429\n",
            "Epoch 64/100\n",
            "1/1 [==============================] - 0s 1ms/step - loss: 0.0712 - accuracy: 0.1429\n",
            "Epoch 65/100\n",
            "1/1 [==============================] - 0s 1ms/step - loss: 0.0708 - accuracy: 0.1429\n",
            "Epoch 66/100\n",
            "1/1 [==============================] - 0s 1ms/step - loss: 0.0700 - accuracy: 0.1429\n",
            "Epoch 67/100\n",
            "1/1 [==============================] - 0s 2ms/step - loss: 0.0701 - accuracy: 0.1429\n",
            "Epoch 68/100\n",
            "1/1 [==============================] - 0s 1ms/step - loss: 0.0699 - accuracy: 0.1429\n",
            "Epoch 69/100\n",
            "1/1 [==============================] - 0s 2ms/step - loss: 0.0696 - accuracy: 0.1429\n",
            "Epoch 70/100\n",
            "1/1 [==============================] - 0s 2ms/step - loss: 0.0706 - accuracy: 0.1429\n",
            "Epoch 71/100\n",
            "1/1 [==============================] - 0s 3ms/step - loss: 0.0706 - accuracy: 0.1429\n",
            "Epoch 72/100\n",
            "1/1 [==============================] - 0s 1ms/step - loss: 0.0695 - accuracy: 0.1429\n",
            "Epoch 73/100\n",
            "1/1 [==============================] - 0s 1ms/step - loss: 0.0708 - accuracy: 0.1429\n",
            "Epoch 74/100\n",
            "1/1 [==============================] - 0s 2ms/step - loss: 0.0713 - accuracy: 0.1429\n",
            "Epoch 75/100\n",
            "1/1 [==============================] - 0s 2ms/step - loss: 0.0708 - accuracy: 0.1429\n",
            "Epoch 76/100\n",
            "1/1 [==============================] - 0s 1ms/step - loss: 0.0692 - accuracy: 0.1429\n",
            "Epoch 77/100\n",
            "1/1 [==============================] - 0s 1ms/step - loss: 0.0707 - accuracy: 0.1429\n",
            "Epoch 78/100\n",
            "1/1 [==============================] - 0s 1ms/step - loss: 0.0716 - accuracy: 0.1429\n",
            "Epoch 79/100\n",
            "1/1 [==============================] - 0s 1ms/step - loss: 0.0714 - accuracy: 0.1429\n",
            "Epoch 80/100\n",
            "1/1 [==============================] - 0s 1ms/step - loss: 0.0701 - accuracy: 0.1429\n",
            "Epoch 81/100\n",
            "1/1 [==============================] - 0s 3ms/step - loss: 0.0685 - accuracy: 0.1429\n",
            "Epoch 82/100\n",
            "1/1 [==============================] - 0s 4ms/step - loss: 0.0692 - accuracy: 0.1429\n",
            "Epoch 83/100\n",
            "1/1 [==============================] - 0s 1ms/step - loss: 0.0688 - accuracy: 0.1429\n",
            "Epoch 84/100\n",
            "1/1 [==============================] - 0s 1ms/step - loss: 0.0682 - accuracy: 0.1429\n",
            "Epoch 85/100\n",
            "1/1 [==============================] - 0s 1ms/step - loss: 0.0681 - accuracy: 0.1429\n",
            "Epoch 86/100\n",
            "1/1 [==============================] - 0s 3ms/step - loss: 0.0680 - accuracy: 0.1429\n",
            "Epoch 87/100\n",
            "1/1 [==============================] - 0s 1ms/step - loss: 0.0677 - accuracy: 0.1429\n",
            "Epoch 88/100\n",
            "1/1 [==============================] - 0s 1ms/step - loss: 0.0680 - accuracy: 0.1429\n",
            "Epoch 89/100\n",
            "1/1 [==============================] - 0s 1ms/step - loss: 0.0678 - accuracy: 0.1429\n",
            "Epoch 90/100\n",
            "1/1 [==============================] - 0s 1ms/step - loss: 0.0673 - accuracy: 0.1429\n",
            "Epoch 91/100\n",
            "1/1 [==============================] - 0s 1ms/step - loss: 0.0671 - accuracy: 0.1429\n",
            "Epoch 92/100\n",
            "1/1 [==============================] - 0s 1ms/step - loss: 0.0673 - accuracy: 0.1429\n",
            "Epoch 93/100\n",
            "1/1 [==============================] - 0s 1ms/step - loss: 0.0670 - accuracy: 0.1429\n",
            "Epoch 94/100\n",
            "1/1 [==============================] - 0s 1ms/step - loss: 0.0670 - accuracy: 0.1429\n",
            "Epoch 95/100\n",
            "1/1 [==============================] - 0s 2ms/step - loss: 0.0669 - accuracy: 0.1429\n",
            "Epoch 96/100\n",
            "1/1 [==============================] - 0s 1ms/step - loss: 0.0661 - accuracy: 0.1429\n",
            "Epoch 97/100\n",
            "1/1 [==============================] - 0s 1ms/step - loss: 0.0658 - accuracy: 0.1429\n",
            "Epoch 98/100\n",
            "1/1 [==============================] - 0s 1ms/step - loss: 0.0664 - accuracy: 0.1429\n",
            "Epoch 99/100\n",
            "1/1 [==============================] - 0s 1ms/step - loss: 0.0659 - accuracy: 0.1429\n",
            "Epoch 100/100\n",
            "1/1 [==============================] - 0s 1ms/step - loss: 0.0663 - accuracy: 0.1429\n"
          ],
          "name": "stdout"
        }
      ]
    },
    {
      "cell_type": "code",
      "metadata": {
        "id": "nHDCFXxjilQw",
        "outputId": "40b9798d-ecf3-488e-c6cf-4e9d9c191b92",
        "colab": {
          "base_uri": "https://localhost:8080/",
          "height": 163
        }
      },
      "source": [
        "history=model.fit(X_train,y_train,epochs=100,validation_data=(x_test,y_test))"
      ],
      "execution_count": null,
      "outputs": [
        {
          "output_type": "error",
          "ename": "NameError",
          "evalue": "ignored",
          "traceback": [
            "\u001b[0;31m---------------------------------------------------------------------------\u001b[0m",
            "\u001b[0;31mNameError\u001b[0m                                 Traceback (most recent call last)",
            "\u001b[0;32m<ipython-input-50-6ed0ca243b20>\u001b[0m in \u001b[0;36m<module>\u001b[0;34m()\u001b[0m\n\u001b[0;32m----> 1\u001b[0;31m \u001b[0mhistory\u001b[0m\u001b[0;34m=\u001b[0m\u001b[0mmodel\u001b[0m\u001b[0;34m.\u001b[0m\u001b[0mfit\u001b[0m\u001b[0;34m(\u001b[0m\u001b[0mX_train\u001b[0m\u001b[0;34m,\u001b[0m\u001b[0my_train\u001b[0m\u001b[0;34m,\u001b[0m\u001b[0mepochs\u001b[0m\u001b[0;34m=\u001b[0m\u001b[0;36m100\u001b[0m\u001b[0;34m,\u001b[0m\u001b[0mvalidation_data\u001b[0m\u001b[0;34m=\u001b[0m\u001b[0;34m(\u001b[0m\u001b[0mx_test\u001b[0m\u001b[0;34m,\u001b[0m\u001b[0my_test\u001b[0m\u001b[0;34m)\u001b[0m\u001b[0;34m)\u001b[0m\u001b[0;34m\u001b[0m\u001b[0;34m\u001b[0m\u001b[0m\n\u001b[0m",
            "\u001b[0;31mNameError\u001b[0m: name 'x_test' is not defined"
          ]
        }
      ]
    }
  ]
}